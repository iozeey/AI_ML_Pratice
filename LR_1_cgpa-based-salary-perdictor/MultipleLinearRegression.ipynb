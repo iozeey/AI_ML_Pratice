{
 "cells": [
  {
   "cell_type": "code",
   "execution_count": 25,
   "id": "6c142985-d0c4-43e8-b4a0-b905831563f2",
   "metadata": {},
   "outputs": [],
   "source": [
    "import pandas as pd\n",
    "from sklearn.datasets import make_regression\n",
    "import numpy as np\n",
    "\n",
    "import plotly.express as px\n",
    "import plotly.graph_objects as go\n",
    "\n",
    "from sklearn.metrics import mean_absolute_error, mean_squared_error, r2_score\n",
    "# Generate Sample data \n",
    "X,y = make_regression(n_samples=100, n_features=2, n_informative=2, n_targets=1, noise=50)"
   ]
  },
  {
   "cell_type": "code",
   "execution_count": 17,
   "id": "b1c3353f-c290-437b-a8f5-10564293502f",
   "metadata": {},
   "outputs": [],
   "source": [
    "df = pd.DataFrame({'feature1':X[:,0],'feature2':X[:,1],'target':y})"
   ]
  },
  {
   "cell_type": "code",
   "execution_count": 19,
   "id": "6f8832c9-1789-4e01-b435-659c51356be3",
   "metadata": {},
   "outputs": [
    {
     "data": {
      "text/html": [
       "<div>\n",
       "<style scoped>\n",
       "    .dataframe tbody tr th:only-of-type {\n",
       "        vertical-align: middle;\n",
       "    }\n",
       "\n",
       "    .dataframe tbody tr th {\n",
       "        vertical-align: top;\n",
       "    }\n",
       "\n",
       "    .dataframe thead th {\n",
       "        text-align: right;\n",
       "    }\n",
       "</style>\n",
       "<table border=\"1\" class=\"dataframe\">\n",
       "  <thead>\n",
       "    <tr style=\"text-align: right;\">\n",
       "      <th></th>\n",
       "      <th>feature1</th>\n",
       "      <th>feature2</th>\n",
       "      <th>target</th>\n",
       "    </tr>\n",
       "  </thead>\n",
       "  <tbody>\n",
       "    <tr>\n",
       "      <th>0</th>\n",
       "      <td>0.125264</td>\n",
       "      <td>-0.289493</td>\n",
       "      <td>-38.706422</td>\n",
       "    </tr>\n",
       "    <tr>\n",
       "      <th>1</th>\n",
       "      <td>0.489321</td>\n",
       "      <td>-0.165427</td>\n",
       "      <td>51.300419</td>\n",
       "    </tr>\n",
       "    <tr>\n",
       "      <th>2</th>\n",
       "      <td>-1.093928</td>\n",
       "      <td>-1.769880</td>\n",
       "      <td>-95.331115</td>\n",
       "    </tr>\n",
       "    <tr>\n",
       "      <th>3</th>\n",
       "      <td>1.942964</td>\n",
       "      <td>0.727504</td>\n",
       "      <td>143.386729</td>\n",
       "    </tr>\n",
       "    <tr>\n",
       "      <th>4</th>\n",
       "      <td>-1.262232</td>\n",
       "      <td>-0.818273</td>\n",
       "      <td>-148.578949</td>\n",
       "    </tr>\n",
       "  </tbody>\n",
       "</table>\n",
       "</div>"
      ],
      "text/plain": [
       "   feature1  feature2      target\n",
       "0  0.125264 -0.289493  -38.706422\n",
       "1  0.489321 -0.165427   51.300419\n",
       "2 -1.093928 -1.769880  -95.331115\n",
       "3  1.942964  0.727504  143.386729\n",
       "4 -1.262232 -0.818273 -148.578949"
      ]
     },
     "execution_count": 19,
     "metadata": {},
     "output_type": "execute_result"
    }
   ],
   "source": [
    "df.head()"
   ]
  },
  {
   "cell_type": "code",
   "execution_count": 21,
   "id": "a9d4bfe4-5d8a-4103-b7bd-a773519bfb28",
   "metadata": {},
   "outputs": [
    {
     "data": {
      "text/plain": [
       "(100, 3)"
      ]
     },
     "execution_count": 21,
     "metadata": {},
     "output_type": "execute_result"
    }
   ],
   "source": [
    "df.shape"
   ]
  },
  {
   "cell_type": "code",
   "execution_count": 26,
   "id": "a74b5297-e1e8-4f75-968b-36ddb54a72bd",
   "metadata": {},
   "outputs": [
    {
     "data": {
      "application/vnd.plotly.v1+json": {
       "config": {
        "plotlyServerURL": "https://plot.ly"
       },
       "data": [
        {
         "hovertemplate": "feature1=%{x}<br>feature2=%{y}<br>target=%{z}<extra></extra>",
         "legendgroup": "",
         "marker": {
          "color": "#636efa",
          "symbol": "circle"
         },
         "mode": "markers",
         "name": "",
         "scene": "scene",
         "showlegend": false,
         "type": "scatter3d",
         "x": [
          0.12526443096532686,
          0.48932075995003516,
          -1.0939275900979317,
          1.9429637253869907,
          -1.262231871225958,
          1.280677968436593,
          0.26270387335661216,
          1.6916769692052915,
          -0.7924394972758289,
          0.5623002291673495,
          -0.8767640544902346,
          -0.9868279147664644,
          0.15080341239597025,
          -1.4319317122790116,
          -0.39638113336532144,
          -1.600254327693883,
          0.0804326625199886,
          0.01714781667871619,
          -0.7488295175582479,
          -1.0663160595670755,
          -0.9597025760950704,
          -0.5070558273773378,
          -1.470477249590707,
          -0.568519926055607,
          -0.8317146030936844,
          2.382444407379049,
          0.22609807800878312,
          -0.05175215047002742,
          -0.21346682528219718,
          -1.383310393718448,
          -1.7070186949361186,
          1.3543949578523828,
          0.6206358657306146,
          -1.1553049117440175,
          0.12955446097554943,
          -0.3285203413785415,
          -1.4726250348239396,
          0.19040896551345593,
          0.1919628062414977,
          -0.7822078031499083,
          -0.686587644608777,
          -0.670385151283096,
          1.0173298798364112,
          -0.059651577784440704,
          -1.1188660062710327,
          0.6179242671693749,
          -1.1757807706929595,
          -0.9804106295151219,
          -1.258243352933031,
          1.467124761180574,
          0.3382734551317511,
          2.4756854270245476,
          0.5838390731646389,
          -0.00637382183988534,
          -1.1928823902278882,
          0.8871573032583563,
          1.2337178213484286,
          -2.376597412149679,
          -0.08237596453646716,
          0.7807188298883325,
          2.0460172180896623,
          -0.03454551006268879,
          -0.5709233926379559,
          1.745119240958448,
          0.963337222658344,
          -2.4046509797459237,
          -0.5792929926661531,
          -0.24620596240434894,
          1.452850127855491,
          -0.8150487607878686,
          -0.10862093072413787,
          0.18038003093609448,
          0.33538687548487656,
          -0.7586609637539841,
          0.29436859467914006,
          -0.9088068580692025,
          -0.9080364546480454,
          0.1388871408478154,
          -0.0650739149216401,
          -0.2751334329768556,
          1.423987376307553,
          0.8129993380022232,
          -1.1877864529685112,
          0.0889463606316087,
          -0.3122831702128403,
          0.2734141283872718,
          -0.8063249761382717,
          -1.2485686801184348,
          0.24470299503195433,
          1.8876125516332076,
          -1.0164918441351243,
          -1.1704287263371125,
          -0.6205703949670892,
          0.7189077817511069,
          -0.6735231739314768,
          0.11656151151389475,
          -1.0350711790205673,
          0.2644796485021686,
          0.6142943022496723,
          -1.8676777600940575
         ],
         "y": [
          -0.28949335987365044,
          -0.1654266941037119,
          -1.769879577060749,
          0.7275044729404286,
          -0.8182730113213789,
          0.4915870580332241,
          -0.9647047208960245,
          0.7053818452194153,
          -0.6243599742358067,
          0.24078659380431575,
          -0.20498685364268038,
          0.9302382182587439,
          -0.4455859396048868,
          0.05489534149984798,
          -1.1655428601158648,
          -0.8602434021522738,
          1.093518793728889,
          -1.0456297272031696,
          -0.5909306192884535,
          -0.1280169542078764,
          1.4603681516091214,
          -1.9758354087915142,
          0.0642175203800051,
          0.034796881439954803,
          0.371126851795603,
          -1.4255832206001438,
          0.13656753973438285,
          -0.7302794177072378,
          0.31124269097352714,
          -0.9630611778302002,
          0.6374313982750894,
          0.777774849155511,
          0.9913693347005254,
          -2.4360728385083945,
          0.4996131773568769,
          0.5202981285283453,
          0.16836846638676922,
          -0.6222878752655276,
          0.03530908874712601,
          0.8926676978253507,
          -1.1102351858844912,
          -1.522980692931229,
          -1.1328145987719107,
          0.38693265609107724,
          0.12872607733084415,
          -0.6596172862000111,
          0.3924707171155745,
          0.962944403464303,
          -1.1408858147906886,
          0.8469499047150998,
          0.6194487756707736,
          -0.05602012203332691,
          -1.4113329039840905,
          0.6706773939802136,
          0.1255246870583658,
          0.2273958049301893,
          -0.6522260970078751,
          0.2503964810087535,
          0.12668980864579638,
          0.9290488897220924,
          2.1119363910730367,
          0.8594027919219734,
          -0.4150571379611528,
          1.3084878469680583,
          0.565345520702372,
          -0.5585081483748462,
          -0.31209349811927894,
          2.6157766751382656,
          0.20728685229986252,
          -0.0617803161322389,
          -0.012294911534496881,
          1.3844470426196016,
          -0.04872890615796278,
          1.0905367351480384,
          -0.015908200156540122,
          0.08722647898075904,
          0.568421774277876,
          0.4636685740358588,
          1.7803563157776203,
          -0.09183186969441302,
          1.1979478837258912,
          0.4725208023195287,
          0.1777032623908952,
          -0.04852734083384953,
          -1.2875921420947094,
          -0.10976154097034771,
          -0.29536050834089306,
          0.6653623619169606,
          -1.4966330587332886,
          0.7118765740474294,
          2.1401009365899193,
          -0.7469967403490688,
          -0.23491691434210218,
          0.06863509031816004,
          0.43620413915880246,
          -0.4377944575506933,
          -0.06471465285892235,
          1.8353249755629113,
          -0.34042870041354995,
          -0.6744613689601999
         ],
         "z": [
          -38.70642185283364,
          51.300418572364535,
          -95.33111544088878,
          143.3867285216346,
          -148.57894895522546,
          176.56029428543525,
          46.279426625110574,
          106.330068754398,
          -71.66167781673644,
          94.41177392650022,
          0.265768550876615,
          -110.37206510145688,
          -4.641688171411181,
          -100.61250051236232,
          -84.8237365322115,
          -127.0218489006856,
          76.22773704158305,
          -83.28505074891467,
          -113.026678461758,
          -48.17051773254586,
          10.605580129159243,
          -79.71230162559124,
          -139.79211124469444,
          -119.9060952823717,
          -104.02092045971307,
          116.39048234115161,
          19.6948142753232,
          -36.56039562942082,
          63.12155314661527,
          -119.55279289898297,
          -166.9076047970542,
          124.92101057371602,
          82.81526988775157,
          -267.0049716771074,
          68.54886024829517,
          -96.0380240805488,
          -132.15243059427027,
          32.4529232253895,
          22.560693953817943,
          -62.37483698713471,
          -144.60232312417065,
          -154.38151348311123,
          8.272205368533214,
          6.274198194617437,
          -68.41206951937215,
          21.56884783329005,
          -22.530579420520453,
          -122.9598911009833,
          -161.1838104676516,
          151.81849187995118,
          97.07407218447736,
          334.1789638530755,
          4.713569870759834,
          -58.81114372113905,
          -73.90107574193382,
          168.3346750187672,
          86.58648553611157,
          -297.7380714758168,
          76.52859541544301,
          168.22759850378606,
          384.3260435999605,
          -6.881270707040649,
          2.764243556079407,
          216.84580277900284,
          197.8944699847285,
          -316.3937849210136,
          -4.084945542319645,
          121.27004206531598,
          173.49738399893855,
          -88.86548979617643,
          43.312539911379105,
          90.6254847523319,
          0.8499552705178601,
          26.97541046516342,
          -0.344265226918818,
          -16.729006618743256,
          -108.07708225833389,
          32.13749717113266,
          98.85335072992069,
          -36.65202495574407,
          258.8119743883325,
          124.54033003645884,
          -131.184076593556,
          -26.95492022904376,
          -134.53431433891592,
          -33.564232463788485,
          -58.01259356847632,
          -71.09084001288483,
          -8.753306599988044,
          211.08265976212812,
          -79.50086256851195,
          -160.99866612163382,
          -58.92842195362945,
          43.76412536323262,
          -63.3637310022295,
          -11.731383301512254,
          -107.11369987525659,
          77.32352568246735,
          27.742539317350783,
          -218.03868921583987
         ]
        }
       ],
       "layout": {
        "autosize": true,
        "legend": {
         "tracegroupgap": 0
        },
        "margin": {
         "t": 60
        },
        "scene": {
         "aspectmode": "auto",
         "aspectratio": {
          "x": 1,
          "y": 1,
          "z": 1
         },
         "camera": {
          "center": {
           "x": 0,
           "y": 0,
           "z": 0
          },
          "eye": {
           "x": 0.3210705621429467,
           "y": 0.3210705621429459,
           "z": 0.3210705621429472
          },
          "projection": {
           "type": "perspective"
          },
          "up": {
           "x": 0.9979722633926831,
           "y": -0.04398227398104771,
           "z": 0.04601001058836421
          }
         },
         "domain": {
          "x": [
           0,
           1
          ],
          "y": [
           0,
           1
          ]
         },
         "xaxis": {
          "title": {
           "text": "feature1"
          },
          "type": "linear"
         },
         "yaxis": {
          "title": {
           "text": "feature2"
          },
          "type": "linear"
         },
         "zaxis": {
          "title": {
           "text": "target"
          },
          "type": "linear"
         }
        },
        "template": {
         "data": {
          "bar": [
           {
            "error_x": {
             "color": "#2a3f5f"
            },
            "error_y": {
             "color": "#2a3f5f"
            },
            "marker": {
             "line": {
              "color": "#E5ECF6",
              "width": 0.5
             },
             "pattern": {
              "fillmode": "overlay",
              "size": 10,
              "solidity": 0.2
             }
            },
            "type": "bar"
           }
          ],
          "barpolar": [
           {
            "marker": {
             "line": {
              "color": "#E5ECF6",
              "width": 0.5
             },
             "pattern": {
              "fillmode": "overlay",
              "size": 10,
              "solidity": 0.2
             }
            },
            "type": "barpolar"
           }
          ],
          "carpet": [
           {
            "aaxis": {
             "endlinecolor": "#2a3f5f",
             "gridcolor": "white",
             "linecolor": "white",
             "minorgridcolor": "white",
             "startlinecolor": "#2a3f5f"
            },
            "baxis": {
             "endlinecolor": "#2a3f5f",
             "gridcolor": "white",
             "linecolor": "white",
             "minorgridcolor": "white",
             "startlinecolor": "#2a3f5f"
            },
            "type": "carpet"
           }
          ],
          "choropleth": [
           {
            "colorbar": {
             "outlinewidth": 0,
             "ticks": ""
            },
            "type": "choropleth"
           }
          ],
          "contour": [
           {
            "colorbar": {
             "outlinewidth": 0,
             "ticks": ""
            },
            "colorscale": [
             [
              0,
              "#0d0887"
             ],
             [
              0.1111111111111111,
              "#46039f"
             ],
             [
              0.2222222222222222,
              "#7201a8"
             ],
             [
              0.3333333333333333,
              "#9c179e"
             ],
             [
              0.4444444444444444,
              "#bd3786"
             ],
             [
              0.5555555555555556,
              "#d8576b"
             ],
             [
              0.6666666666666666,
              "#ed7953"
             ],
             [
              0.7777777777777778,
              "#fb9f3a"
             ],
             [
              0.8888888888888888,
              "#fdca26"
             ],
             [
              1,
              "#f0f921"
             ]
            ],
            "type": "contour"
           }
          ],
          "contourcarpet": [
           {
            "colorbar": {
             "outlinewidth": 0,
             "ticks": ""
            },
            "type": "contourcarpet"
           }
          ],
          "heatmap": [
           {
            "colorbar": {
             "outlinewidth": 0,
             "ticks": ""
            },
            "colorscale": [
             [
              0,
              "#0d0887"
             ],
             [
              0.1111111111111111,
              "#46039f"
             ],
             [
              0.2222222222222222,
              "#7201a8"
             ],
             [
              0.3333333333333333,
              "#9c179e"
             ],
             [
              0.4444444444444444,
              "#bd3786"
             ],
             [
              0.5555555555555556,
              "#d8576b"
             ],
             [
              0.6666666666666666,
              "#ed7953"
             ],
             [
              0.7777777777777778,
              "#fb9f3a"
             ],
             [
              0.8888888888888888,
              "#fdca26"
             ],
             [
              1,
              "#f0f921"
             ]
            ],
            "type": "heatmap"
           }
          ],
          "heatmapgl": [
           {
            "colorbar": {
             "outlinewidth": 0,
             "ticks": ""
            },
            "colorscale": [
             [
              0,
              "#0d0887"
             ],
             [
              0.1111111111111111,
              "#46039f"
             ],
             [
              0.2222222222222222,
              "#7201a8"
             ],
             [
              0.3333333333333333,
              "#9c179e"
             ],
             [
              0.4444444444444444,
              "#bd3786"
             ],
             [
              0.5555555555555556,
              "#d8576b"
             ],
             [
              0.6666666666666666,
              "#ed7953"
             ],
             [
              0.7777777777777778,
              "#fb9f3a"
             ],
             [
              0.8888888888888888,
              "#fdca26"
             ],
             [
              1,
              "#f0f921"
             ]
            ],
            "type": "heatmapgl"
           }
          ],
          "histogram": [
           {
            "marker": {
             "pattern": {
              "fillmode": "overlay",
              "size": 10,
              "solidity": 0.2
             }
            },
            "type": "histogram"
           }
          ],
          "histogram2d": [
           {
            "colorbar": {
             "outlinewidth": 0,
             "ticks": ""
            },
            "colorscale": [
             [
              0,
              "#0d0887"
             ],
             [
              0.1111111111111111,
              "#46039f"
             ],
             [
              0.2222222222222222,
              "#7201a8"
             ],
             [
              0.3333333333333333,
              "#9c179e"
             ],
             [
              0.4444444444444444,
              "#bd3786"
             ],
             [
              0.5555555555555556,
              "#d8576b"
             ],
             [
              0.6666666666666666,
              "#ed7953"
             ],
             [
              0.7777777777777778,
              "#fb9f3a"
             ],
             [
              0.8888888888888888,
              "#fdca26"
             ],
             [
              1,
              "#f0f921"
             ]
            ],
            "type": "histogram2d"
           }
          ],
          "histogram2dcontour": [
           {
            "colorbar": {
             "outlinewidth": 0,
             "ticks": ""
            },
            "colorscale": [
             [
              0,
              "#0d0887"
             ],
             [
              0.1111111111111111,
              "#46039f"
             ],
             [
              0.2222222222222222,
              "#7201a8"
             ],
             [
              0.3333333333333333,
              "#9c179e"
             ],
             [
              0.4444444444444444,
              "#bd3786"
             ],
             [
              0.5555555555555556,
              "#d8576b"
             ],
             [
              0.6666666666666666,
              "#ed7953"
             ],
             [
              0.7777777777777778,
              "#fb9f3a"
             ],
             [
              0.8888888888888888,
              "#fdca26"
             ],
             [
              1,
              "#f0f921"
             ]
            ],
            "type": "histogram2dcontour"
           }
          ],
          "mesh3d": [
           {
            "colorbar": {
             "outlinewidth": 0,
             "ticks": ""
            },
            "type": "mesh3d"
           }
          ],
          "parcoords": [
           {
            "line": {
             "colorbar": {
              "outlinewidth": 0,
              "ticks": ""
             }
            },
            "type": "parcoords"
           }
          ],
          "pie": [
           {
            "automargin": true,
            "type": "pie"
           }
          ],
          "scatter": [
           {
            "fillpattern": {
             "fillmode": "overlay",
             "size": 10,
             "solidity": 0.2
            },
            "type": "scatter"
           }
          ],
          "scatter3d": [
           {
            "line": {
             "colorbar": {
              "outlinewidth": 0,
              "ticks": ""
             }
            },
            "marker": {
             "colorbar": {
              "outlinewidth": 0,
              "ticks": ""
             }
            },
            "type": "scatter3d"
           }
          ],
          "scattercarpet": [
           {
            "marker": {
             "colorbar": {
              "outlinewidth": 0,
              "ticks": ""
             }
            },
            "type": "scattercarpet"
           }
          ],
          "scattergeo": [
           {
            "marker": {
             "colorbar": {
              "outlinewidth": 0,
              "ticks": ""
             }
            },
            "type": "scattergeo"
           }
          ],
          "scattergl": [
           {
            "marker": {
             "colorbar": {
              "outlinewidth": 0,
              "ticks": ""
             }
            },
            "type": "scattergl"
           }
          ],
          "scattermapbox": [
           {
            "marker": {
             "colorbar": {
              "outlinewidth": 0,
              "ticks": ""
             }
            },
            "type": "scattermapbox"
           }
          ],
          "scatterpolar": [
           {
            "marker": {
             "colorbar": {
              "outlinewidth": 0,
              "ticks": ""
             }
            },
            "type": "scatterpolar"
           }
          ],
          "scatterpolargl": [
           {
            "marker": {
             "colorbar": {
              "outlinewidth": 0,
              "ticks": ""
             }
            },
            "type": "scatterpolargl"
           }
          ],
          "scatterternary": [
           {
            "marker": {
             "colorbar": {
              "outlinewidth": 0,
              "ticks": ""
             }
            },
            "type": "scatterternary"
           }
          ],
          "surface": [
           {
            "colorbar": {
             "outlinewidth": 0,
             "ticks": ""
            },
            "colorscale": [
             [
              0,
              "#0d0887"
             ],
             [
              0.1111111111111111,
              "#46039f"
             ],
             [
              0.2222222222222222,
              "#7201a8"
             ],
             [
              0.3333333333333333,
              "#9c179e"
             ],
             [
              0.4444444444444444,
              "#bd3786"
             ],
             [
              0.5555555555555556,
              "#d8576b"
             ],
             [
              0.6666666666666666,
              "#ed7953"
             ],
             [
              0.7777777777777778,
              "#fb9f3a"
             ],
             [
              0.8888888888888888,
              "#fdca26"
             ],
             [
              1,
              "#f0f921"
             ]
            ],
            "type": "surface"
           }
          ],
          "table": [
           {
            "cells": {
             "fill": {
              "color": "#EBF0F8"
             },
             "line": {
              "color": "white"
             }
            },
            "header": {
             "fill": {
              "color": "#C8D4E3"
             },
             "line": {
              "color": "white"
             }
            },
            "type": "table"
           }
          ]
         },
         "layout": {
          "annotationdefaults": {
           "arrowcolor": "#2a3f5f",
           "arrowhead": 0,
           "arrowwidth": 1
          },
          "autotypenumbers": "strict",
          "coloraxis": {
           "colorbar": {
            "outlinewidth": 0,
            "ticks": ""
           }
          },
          "colorscale": {
           "diverging": [
            [
             0,
             "#8e0152"
            ],
            [
             0.1,
             "#c51b7d"
            ],
            [
             0.2,
             "#de77ae"
            ],
            [
             0.3,
             "#f1b6da"
            ],
            [
             0.4,
             "#fde0ef"
            ],
            [
             0.5,
             "#f7f7f7"
            ],
            [
             0.6,
             "#e6f5d0"
            ],
            [
             0.7,
             "#b8e186"
            ],
            [
             0.8,
             "#7fbc41"
            ],
            [
             0.9,
             "#4d9221"
            ],
            [
             1,
             "#276419"
            ]
           ],
           "sequential": [
            [
             0,
             "#0d0887"
            ],
            [
             0.1111111111111111,
             "#46039f"
            ],
            [
             0.2222222222222222,
             "#7201a8"
            ],
            [
             0.3333333333333333,
             "#9c179e"
            ],
            [
             0.4444444444444444,
             "#bd3786"
            ],
            [
             0.5555555555555556,
             "#d8576b"
            ],
            [
             0.6666666666666666,
             "#ed7953"
            ],
            [
             0.7777777777777778,
             "#fb9f3a"
            ],
            [
             0.8888888888888888,
             "#fdca26"
            ],
            [
             1,
             "#f0f921"
            ]
           ],
           "sequentialminus": [
            [
             0,
             "#0d0887"
            ],
            [
             0.1111111111111111,
             "#46039f"
            ],
            [
             0.2222222222222222,
             "#7201a8"
            ],
            [
             0.3333333333333333,
             "#9c179e"
            ],
            [
             0.4444444444444444,
             "#bd3786"
            ],
            [
             0.5555555555555556,
             "#d8576b"
            ],
            [
             0.6666666666666666,
             "#ed7953"
            ],
            [
             0.7777777777777778,
             "#fb9f3a"
            ],
            [
             0.8888888888888888,
             "#fdca26"
            ],
            [
             1,
             "#f0f921"
            ]
           ]
          },
          "colorway": [
           "#636efa",
           "#EF553B",
           "#00cc96",
           "#ab63fa",
           "#FFA15A",
           "#19d3f3",
           "#FF6692",
           "#B6E880",
           "#FF97FF",
           "#FECB52"
          ],
          "font": {
           "color": "#2a3f5f"
          },
          "geo": {
           "bgcolor": "white",
           "lakecolor": "white",
           "landcolor": "#E5ECF6",
           "showlakes": true,
           "showland": true,
           "subunitcolor": "white"
          },
          "hoverlabel": {
           "align": "left"
          },
          "hovermode": "closest",
          "mapbox": {
           "style": "light"
          },
          "paper_bgcolor": "white",
          "plot_bgcolor": "#E5ECF6",
          "polar": {
           "angularaxis": {
            "gridcolor": "white",
            "linecolor": "white",
            "ticks": ""
           },
           "bgcolor": "#E5ECF6",
           "radialaxis": {
            "gridcolor": "white",
            "linecolor": "white",
            "ticks": ""
           }
          },
          "scene": {
           "xaxis": {
            "backgroundcolor": "#E5ECF6",
            "gridcolor": "white",
            "gridwidth": 2,
            "linecolor": "white",
            "showbackground": true,
            "ticks": "",
            "zerolinecolor": "white"
           },
           "yaxis": {
            "backgroundcolor": "#E5ECF6",
            "gridcolor": "white",
            "gridwidth": 2,
            "linecolor": "white",
            "showbackground": true,
            "ticks": "",
            "zerolinecolor": "white"
           },
           "zaxis": {
            "backgroundcolor": "#E5ECF6",
            "gridcolor": "white",
            "gridwidth": 2,
            "linecolor": "white",
            "showbackground": true,
            "ticks": "",
            "zerolinecolor": "white"
           }
          },
          "shapedefaults": {
           "line": {
            "color": "#2a3f5f"
           }
          },
          "ternary": {
           "aaxis": {
            "gridcolor": "white",
            "linecolor": "white",
            "ticks": ""
           },
           "baxis": {
            "gridcolor": "white",
            "linecolor": "white",
            "ticks": ""
           },
           "bgcolor": "#E5ECF6",
           "caxis": {
            "gridcolor": "white",
            "linecolor": "white",
            "ticks": ""
           }
          },
          "title": {
           "x": 0.05
          },
          "xaxis": {
           "automargin": true,
           "gridcolor": "white",
           "linecolor": "white",
           "ticks": "",
           "title": {
            "standoff": 15
           },
           "zerolinecolor": "white",
           "zerolinewidth": 2
          },
          "yaxis": {
           "automargin": true,
           "gridcolor": "white",
           "linecolor": "white",
           "ticks": "",
           "title": {
            "standoff": 15
           },
           "zerolinecolor": "white",
           "zerolinewidth": 2
          }
         }
        }
       }
      },
      "image/png": "[encoded data removed]",
      "text/html": [
       "<div>                            <div id=\"9369a836-c76f-4da9-82ac-92a7428dcfcf\" class=\"plotly-graph-div\" style=\"height:525px; width:100%;\"></div>            <script type=\"text/javascript\">                require([\"plotly\"], function(Plotly) {                    window.PLOTLYENV=window.PLOTLYENV || {};                                    if (document.getElementById(\"9369a836-c76f-4da9-82ac-92a7428dcfcf\")) {                    Plotly.newPlot(                        \"9369a836-c76f-4da9-82ac-92a7428dcfcf\",                        [{\"hovertemplate\":\"feature1=%{x}<br>feature2=%{y}<br>target=%{z}<extra></extra>\",\"legendgroup\":\"\",\"marker\":{\"color\":\"#636efa\",\"symbol\":\"circle\"},\"mode\":\"markers\",\"name\":\"\",\"scene\":\"scene\",\"showlegend\":false,\"x\":[0.12526443096532686,0.48932075995003516,-1.0939275900979317,1.9429637253869907,-1.262231871225958,1.280677968436593,0.26270387335661216,1.6916769692052915,-0.7924394972758289,0.5623002291673495,-0.8767640544902346,-0.9868279147664644,0.15080341239597025,-1.4319317122790116,-0.39638113336532144,-1.600254327693883,0.0804326625199886,0.01714781667871619,-0.7488295175582479,-1.0663160595670755,-0.9597025760950704,-0.5070558273773378,-1.470477249590707,-0.568519926055607,-0.8317146030936844,2.382444407379049,0.22609807800878312,-0.05175215047002742,-0.21346682528219718,-1.383310393718448,-1.7070186949361186,1.3543949578523828,0.6206358657306146,-1.1553049117440175,0.12955446097554943,-0.3285203413785415,-1.4726250348239396,0.19040896551345593,0.1919628062414977,-0.7822078031499083,-0.686587644608777,-0.670385151283096,1.0173298798364112,-0.059651577784440704,-1.1188660062710327,0.6179242671693749,-1.1757807706929595,-0.9804106295151219,-1.258243352933031,1.467124761180574,0.3382734551317511,2.4756854270245476,0.5838390731646389,-0.00637382183988534,-1.1928823902278882,0.8871573032583563,1.2337178213484286,-2.376597412149679,-0.08237596453646716,0.7807188298883325,2.0460172180896623,-0.03454551006268879,-0.5709233926379559,1.745119240958448,0.963337222658344,-2.4046509797459237,-0.5792929926661531,-0.24620596240434894,1.452850127855491,-0.8150487607878686,-0.10862093072413787,0.18038003093609448,0.33538687548487656,-0.7586609637539841,0.29436859467914006,-0.9088068580692025,-0.9080364546480454,0.1388871408478154,-0.0650739149216401,-0.2751334329768556,1.423987376307553,0.8129993380022232,-1.1877864529685112,0.0889463606316087,-0.3122831702128403,0.2734141283872718,-0.8063249761382717,-1.2485686801184348,0.24470299503195433,1.8876125516332076,-1.0164918441351243,-1.1704287263371125,-0.6205703949670892,0.7189077817511069,-0.6735231739314768,0.11656151151389475,-1.0350711790205673,0.2644796485021686,0.6142943022496723,-1.8676777600940575],\"y\":[-0.28949335987365044,-0.1654266941037119,-1.769879577060749,0.7275044729404286,-0.8182730113213789,0.4915870580332241,-0.9647047208960245,0.7053818452194153,-0.6243599742358067,0.24078659380431575,-0.20498685364268038,0.9302382182587439,-0.4455859396048868,0.05489534149984798,-1.1655428601158648,-0.8602434021522738,1.093518793728889,-1.0456297272031696,-0.5909306192884535,-0.1280169542078764,1.4603681516091214,-1.9758354087915142,0.0642175203800051,0.034796881439954803,0.371126851795603,-1.4255832206001438,0.13656753973438285,-0.7302794177072378,0.31124269097352714,-0.9630611778302002,0.6374313982750894,0.777774849155511,0.9913693347005254,-2.4360728385083945,0.4996131773568769,0.5202981285283453,0.16836846638676922,-0.6222878752655276,0.03530908874712601,0.8926676978253507,-1.1102351858844912,-1.522980692931229,-1.1328145987719107,0.38693265609107724,0.12872607733084415,-0.6596172862000111,0.3924707171155745,0.962944403464303,-1.1408858147906886,0.8469499047150998,0.6194487756707736,-0.05602012203332691,-1.4113329039840905,0.6706773939802136,0.1255246870583658,0.2273958049301893,-0.6522260970078751,0.2503964810087535,0.12668980864579638,0.9290488897220924,2.1119363910730367,0.8594027919219734,-0.4150571379611528,1.3084878469680583,0.565345520702372,-0.5585081483748462,-0.31209349811927894,2.6157766751382656,0.20728685229986252,-0.0617803161322389,-0.012294911534496881,1.3844470426196016,-0.04872890615796278,1.0905367351480384,-0.015908200156540122,0.08722647898075904,0.568421774277876,0.4636685740358588,1.7803563157776203,-0.09183186969441302,1.1979478837258912,0.4725208023195287,0.1777032623908952,-0.04852734083384953,-1.2875921420947094,-0.10976154097034771,-0.29536050834089306,0.6653623619169606,-1.4966330587332886,0.7118765740474294,2.1401009365899193,-0.7469967403490688,-0.23491691434210218,0.06863509031816004,0.43620413915880246,-0.4377944575506933,-0.06471465285892235,1.8353249755629113,-0.34042870041354995,-0.6744613689601999],\"z\":[-38.70642185283364,51.300418572364535,-95.33111544088878,143.3867285216346,-148.57894895522546,176.56029428543525,46.279426625110574,106.330068754398,-71.66167781673644,94.41177392650022,0.265768550876615,-110.37206510145688,-4.641688171411181,-100.61250051236232,-84.8237365322115,-127.0218489006856,76.22773704158305,-83.28505074891467,-113.026678461758,-48.17051773254586,10.605580129159243,-79.71230162559124,-139.79211124469444,-119.9060952823717,-104.02092045971307,116.39048234115161,19.6948142753232,-36.56039562942082,63.12155314661527,-119.55279289898297,-166.9076047970542,124.92101057371602,82.81526988775157,-267.0049716771074,68.54886024829517,-96.0380240805488,-132.15243059427027,32.4529232253895,22.560693953817943,-62.37483698713471,-144.60232312417065,-154.38151348311123,8.272205368533214,6.274198194617437,-68.41206951937215,21.56884783329005,-22.530579420520453,-122.9598911009833,-161.1838104676516,151.81849187995118,97.07407218447736,334.1789638530755,4.713569870759834,-58.81114372113905,-73.90107574193382,168.3346750187672,86.58648553611157,-297.7380714758168,76.52859541544301,168.22759850378606,384.3260435999605,-6.881270707040649,2.764243556079407,216.84580277900284,197.8944699847285,-316.3937849210136,-4.084945542319645,121.27004206531598,173.49738399893855,-88.86548979617643,43.312539911379105,90.6254847523319,0.8499552705178601,26.97541046516342,-0.344265226918818,-16.729006618743256,-108.07708225833389,32.13749717113266,98.85335072992069,-36.65202495574407,258.8119743883325,124.54033003645884,-131.184076593556,-26.95492022904376,-134.53431433891592,-33.564232463788485,-58.01259356847632,-71.09084001288483,-8.753306599988044,211.08265976212812,-79.50086256851195,-160.99866612163382,-58.92842195362945,43.76412536323262,-63.3637310022295,-11.731383301512254,-107.11369987525659,77.32352568246735,27.742539317350783,-218.03868921583987],\"type\":\"scatter3d\"}],                        {\"template\":{\"data\":{\"histogram2dcontour\":[{\"type\":\"histogram2dcontour\",\"colorbar\":{\"outlinewidth\":0,\"ticks\":\"\"},\"colorscale\":[[0.0,\"#0d0887\"],[0.1111111111111111,\"#46039f\"],[0.2222222222222222,\"#7201a8\"],[0.3333333333333333,\"#9c179e\"],[0.4444444444444444,\"#bd3786\"],[0.5555555555555556,\"#d8576b\"],[0.6666666666666666,\"#ed7953\"],[0.7777777777777778,\"#fb9f3a\"],[0.8888888888888888,\"#fdca26\"],[1.0,\"#f0f921\"]]}],\"choropleth\":[{\"type\":\"choropleth\",\"colorbar\":{\"outlinewidth\":0,\"ticks\":\"\"}}],\"histogram2d\":[{\"type\":\"histogram2d\",\"colorbar\":{\"outlinewidth\":0,\"ticks\":\"\"},\"colorscale\":[[0.0,\"#0d0887\"],[0.1111111111111111,\"#46039f\"],[0.2222222222222222,\"#7201a8\"],[0.3333333333333333,\"#9c179e\"],[0.4444444444444444,\"#bd3786\"],[0.5555555555555556,\"#d8576b\"],[0.6666666666666666,\"#ed7953\"],[0.7777777777777778,\"#fb9f3a\"],[0.8888888888888888,\"#fdca26\"],[1.0,\"#f0f921\"]]}],\"heatmap\":[{\"type\":\"heatmap\",\"colorbar\":{\"outlinewidth\":0,\"ticks\":\"\"},\"colorscale\":[[0.0,\"#0d0887\"],[0.1111111111111111,\"#46039f\"],[0.2222222222222222,\"#7201a8\"],[0.3333333333333333,\"#9c179e\"],[0.4444444444444444,\"#bd3786\"],[0.5555555555555556,\"#d8576b\"],[0.6666666666666666,\"#ed7953\"],[0.7777777777777778,\"#fb9f3a\"],[0.8888888888888888,\"#fdca26\"],[1.0,\"#f0f921\"]]}],\"heatmapgl\":[{\"type\":\"heatmapgl\",\"colorbar\":{\"outlinewidth\":0,\"ticks\":\"\"},\"colorscale\":[[0.0,\"#0d0887\"],[0.1111111111111111,\"#46039f\"],[0.2222222222222222,\"#7201a8\"],[0.3333333333333333,\"#9c179e\"],[0.4444444444444444,\"#bd3786\"],[0.5555555555555556,\"#d8576b\"],[0.6666666666666666,\"#ed7953\"],[0.7777777777777778,\"#fb9f3a\"],[0.8888888888888888,\"#fdca26\"],[1.0,\"#f0f921\"]]}],\"contourcarpet\":[{\"type\":\"contourcarpet\",\"colorbar\":{\"outlinewidth\":0,\"ticks\":\"\"}}],\"contour\":[{\"type\":\"contour\",\"colorbar\":{\"outlinewidth\":0,\"ticks\":\"\"},\"colorscale\":[[0.0,\"#0d0887\"],[0.1111111111111111,\"#46039f\"],[0.2222222222222222,\"#7201a8\"],[0.3333333333333333,\"#9c179e\"],[0.4444444444444444,\"#bd3786\"],[0.5555555555555556,\"#d8576b\"],[0.6666666666666666,\"#ed7953\"],[0.7777777777777778,\"#fb9f3a\"],[0.8888888888888888,\"#fdca26\"],[1.0,\"#f0f921\"]]}],\"surface\":[{\"type\":\"surface\",\"colorbar\":{\"outlinewidth\":0,\"ticks\":\"\"},\"colorscale\":[[0.0,\"#0d0887\"],[0.1111111111111111,\"#46039f\"],[0.2222222222222222,\"#7201a8\"],[0.3333333333333333,\"#9c179e\"],[0.4444444444444444,\"#bd3786\"],[0.5555555555555556,\"#d8576b\"],[0.6666666666666666,\"#ed7953\"],[0.7777777777777778,\"#fb9f3a\"],[0.8888888888888888,\"#fdca26\"],[1.0,\"#f0f921\"]]}],\"mesh3d\":[{\"type\":\"mesh3d\",\"colorbar\":{\"outlinewidth\":0,\"ticks\":\"\"}}],\"scatter\":[{\"fillpattern\":{\"fillmode\":\"overlay\",\"size\":10,\"solidity\":0.2},\"type\":\"scatter\"}],\"parcoords\":[{\"type\":\"parcoords\",\"line\":{\"colorbar\":{\"outlinewidth\":0,\"ticks\":\"\"}}}],\"scatterpolargl\":[{\"type\":\"scatterpolargl\",\"marker\":{\"colorbar\":{\"outlinewidth\":0,\"ticks\":\"\"}}}],\"bar\":[{\"error_x\":{\"color\":\"#2a3f5f\"},\"error_y\":{\"color\":\"#2a3f5f\"},\"marker\":{\"line\":{\"color\":\"#E5ECF6\",\"width\":0.5},\"pattern\":{\"fillmode\":\"overlay\",\"size\":10,\"solidity\":0.2}},\"type\":\"bar\"}],\"scattergeo\":[{\"type\":\"scattergeo\",\"marker\":{\"colorbar\":{\"outlinewidth\":0,\"ticks\":\"\"}}}],\"scatterpolar\":[{\"type\":\"scatterpolar\",\"marker\":{\"colorbar\":{\"outlinewidth\":0,\"ticks\":\"\"}}}],\"histogram\":[{\"marker\":{\"pattern\":{\"fillmode\":\"overlay\",\"size\":10,\"solidity\":0.2}},\"type\":\"histogram\"}],\"scattergl\":[{\"type\":\"scattergl\",\"marker\":{\"colorbar\":{\"outlinewidth\":0,\"ticks\":\"\"}}}],\"scatter3d\":[{\"type\":\"scatter3d\",\"line\":{\"colorbar\":{\"outlinewidth\":0,\"ticks\":\"\"}},\"marker\":{\"colorbar\":{\"outlinewidth\":0,\"ticks\":\"\"}}}],\"scattermapbox\":[{\"type\":\"scattermapbox\",\"marker\":{\"colorbar\":{\"outlinewidth\":0,\"ticks\":\"\"}}}],\"scatterternary\":[{\"type\":\"scatterternary\",\"marker\":{\"colorbar\":{\"outlinewidth\":0,\"ticks\":\"\"}}}],\"scattercarpet\":[{\"type\":\"scattercarpet\",\"marker\":{\"colorbar\":{\"outlinewidth\":0,\"ticks\":\"\"}}}],\"carpet\":[{\"aaxis\":{\"endlinecolor\":\"#2a3f5f\",\"gridcolor\":\"white\",\"linecolor\":\"white\",\"minorgridcolor\":\"white\",\"startlinecolor\":\"#2a3f5f\"},\"baxis\":{\"endlinecolor\":\"#2a3f5f\",\"gridcolor\":\"white\",\"linecolor\":\"white\",\"minorgridcolor\":\"white\",\"startlinecolor\":\"#2a3f5f\"},\"type\":\"carpet\"}],\"table\":[{\"cells\":{\"fill\":{\"color\":\"#EBF0F8\"},\"line\":{\"color\":\"white\"}},\"header\":{\"fill\":{\"color\":\"#C8D4E3\"},\"line\":{\"color\":\"white\"}},\"type\":\"table\"}],\"barpolar\":[{\"marker\":{\"line\":{\"color\":\"#E5ECF6\",\"width\":0.5},\"pattern\":{\"fillmode\":\"overlay\",\"size\":10,\"solidity\":0.2}},\"type\":\"barpolar\"}],\"pie\":[{\"automargin\":true,\"type\":\"pie\"}]},\"layout\":{\"autotypenumbers\":\"strict\",\"colorway\":[\"#636efa\",\"#EF553B\",\"#00cc96\",\"#ab63fa\",\"#FFA15A\",\"#19d3f3\",\"#FF6692\",\"#B6E880\",\"#FF97FF\",\"#FECB52\"],\"font\":{\"color\":\"#2a3f5f\"},\"hovermode\":\"closest\",\"hoverlabel\":{\"align\":\"left\"},\"paper_bgcolor\":\"white\",\"plot_bgcolor\":\"#E5ECF6\",\"polar\":{\"bgcolor\":\"#E5ECF6\",\"angularaxis\":{\"gridcolor\":\"white\",\"linecolor\":\"white\",\"ticks\":\"\"},\"radialaxis\":{\"gridcolor\":\"white\",\"linecolor\":\"white\",\"ticks\":\"\"}},\"ternary\":{\"bgcolor\":\"#E5ECF6\",\"aaxis\":{\"gridcolor\":\"white\",\"linecolor\":\"white\",\"ticks\":\"\"},\"baxis\":{\"gridcolor\":\"white\",\"linecolor\":\"white\",\"ticks\":\"\"},\"caxis\":{\"gridcolor\":\"white\",\"linecolor\":\"white\",\"ticks\":\"\"}},\"coloraxis\":{\"colorbar\":{\"outlinewidth\":0,\"ticks\":\"\"}},\"colorscale\":{\"sequential\":[[0.0,\"#0d0887\"],[0.1111111111111111,\"#46039f\"],[0.2222222222222222,\"#7201a8\"],[0.3333333333333333,\"#9c179e\"],[0.4444444444444444,\"#bd3786\"],[0.5555555555555556,\"#d8576b\"],[0.6666666666666666,\"#ed7953\"],[0.7777777777777778,\"#fb9f3a\"],[0.8888888888888888,\"#fdca26\"],[1.0,\"#f0f921\"]],\"sequentialminus\":[[0.0,\"#0d0887\"],[0.1111111111111111,\"#46039f\"],[0.2222222222222222,\"#7201a8\"],[0.3333333333333333,\"#9c179e\"],[0.4444444444444444,\"#bd3786\"],[0.5555555555555556,\"#d8576b\"],[0.6666666666666666,\"#ed7953\"],[0.7777777777777778,\"#fb9f3a\"],[0.8888888888888888,\"#fdca26\"],[1.0,\"#f0f921\"]],\"diverging\":[[0,\"#8e0152\"],[0.1,\"#c51b7d\"],[0.2,\"#de77ae\"],[0.3,\"#f1b6da\"],[0.4,\"#fde0ef\"],[0.5,\"#f7f7f7\"],[0.6,\"#e6f5d0\"],[0.7,\"#b8e186\"],[0.8,\"#7fbc41\"],[0.9,\"#4d9221\"],[1,\"#276419\"]]},\"xaxis\":{\"gridcolor\":\"white\",\"linecolor\":\"white\",\"ticks\":\"\",\"title\":{\"standoff\":15},\"zerolinecolor\":\"white\",\"automargin\":true,\"zerolinewidth\":2},\"yaxis\":{\"gridcolor\":\"white\",\"linecolor\":\"white\",\"ticks\":\"\",\"title\":{\"standoff\":15},\"zerolinecolor\":\"white\",\"automargin\":true,\"zerolinewidth\":2},\"scene\":{\"xaxis\":{\"backgroundcolor\":\"#E5ECF6\",\"gridcolor\":\"white\",\"linecolor\":\"white\",\"showbackground\":true,\"ticks\":\"\",\"zerolinecolor\":\"white\",\"gridwidth\":2},\"yaxis\":{\"backgroundcolor\":\"#E5ECF6\",\"gridcolor\":\"white\",\"linecolor\":\"white\",\"showbackground\":true,\"ticks\":\"\",\"zerolinecolor\":\"white\",\"gridwidth\":2},\"zaxis\":{\"backgroundcolor\":\"#E5ECF6\",\"gridcolor\":\"white\",\"linecolor\":\"white\",\"showbackground\":true,\"ticks\":\"\",\"zerolinecolor\":\"white\",\"gridwidth\":2}},\"shapedefaults\":{\"line\":{\"color\":\"#2a3f5f\"}},\"annotationdefaults\":{\"arrowcolor\":\"#2a3f5f\",\"arrowhead\":0,\"arrowwidth\":1},\"geo\":{\"bgcolor\":\"white\",\"landcolor\":\"#E5ECF6\",\"subunitcolor\":\"white\",\"showland\":true,\"showlakes\":true,\"lakecolor\":\"white\"},\"title\":{\"x\":0.05},\"mapbox\":{\"style\":\"light\"}}},\"scene\":{\"domain\":{\"x\":[0.0,1.0],\"y\":[0.0,1.0]},\"xaxis\":{\"title\":{\"text\":\"feature1\"}},\"yaxis\":{\"title\":{\"text\":\"feature2\"}},\"zaxis\":{\"title\":{\"text\":\"target\"}}},\"legend\":{\"tracegroupgap\":0},\"margin\":{\"t\":60}},                        {\"responsive\": true}                    ).then(function(){\n",
       "                            \n",
       "var gd = document.getElementById('9369a836-c76f-4da9-82ac-92a7428dcfcf');\n",
       "var x = new MutationObserver(function (mutations, observer) {{\n",
       "        var display = window.getComputedStyle(gd).display;\n",
       "        if (!display || display === 'none') {{\n",
       "            console.log([gd, 'removed!']);\n",
       "            Plotly.purge(gd);\n",
       "            observer.disconnect();\n",
       "        }}\n",
       "}});\n",
       "\n",
       "// Listen for the removal of the full notebook cells\n",
       "var notebookContainer = gd.closest('#notebook-container');\n",
       "if (notebookContainer) {{\n",
       "    x.observe(notebookContainer, {childList: true});\n",
       "}}\n",
       "\n",
       "// Listen for the clearing of the current output cell\n",
       "var outputEl = gd.closest('.output');\n",
       "if (outputEl) {{\n",
       "    x.observe(outputEl, {childList: true});\n",
       "}}\n",
       "\n",
       "                        })                };                });            </script>        </div>"
      ]
     },
     "metadata": {},
     "output_type": "display_data"
    }
   ],
   "source": [
    "fig = px.scatter_3d(df, x='feature1', y='feature2', z='target')\n",
    "fig.show()"
   ]
  },
  {
   "cell_type": "code",
   "execution_count": 27,
   "id": "f5fb6c35-4477-4b07-8ae3-2e6b907de619",
   "metadata": {},
   "outputs": [],
   "source": [
    "from sklearn.model_selection import train_test_split\n",
    "# divide data into four arrays, two for training and two for testing\n",
    "X_train, X_test, y_train, y_test = train_test_split(X,y,test_size=0.2,random_state=3)"
   ]
  },
  {
   "cell_type": "code",
   "execution_count": 28,
   "id": "67ee7fc5-ce77-4108-a995-6852404fab30",
   "metadata": {},
   "outputs": [],
   "source": [
    "from sklearn.linear_model import LinearRegression"
   ]
  },
  {
   "cell_type": "code",
   "execution_count": 29,
   "id": "389f6b35-a5cb-433d-a656-232c8e20c428",
   "metadata": {},
   "outputs": [],
   "source": [
    "lr = LinearRegression()"
   ]
  },
  {
   "cell_type": "code",
   "execution_count": 30,
   "id": "cbec522e-8245-4503-9268-7ac74d62609c",
   "metadata": {},
   "outputs": [
    {
     "data": {
      "text/html": [
       "<style>#sk-container-id-1 {color: black;background-color: white;}#sk-container-id-1 pre{padding: 0;}#sk-container-id-1 div.sk-toggleable {background-color: white;}#sk-container-id-1 label.sk-toggleable__label {cursor: pointer;display: block;width: 100%;margin-bottom: 0;padding: 0.3em;box-sizing: border-box;text-align: center;}#sk-container-id-1 label.sk-toggleable__label-arrow:before {content: \"▸\";float: left;margin-right: 0.25em;color: #696969;}#sk-container-id-1 label.sk-toggleable__label-arrow:hover:before {color: black;}#sk-container-id-1 div.sk-estimator:hover label.sk-toggleable__label-arrow:before {color: black;}#sk-container-id-1 div.sk-toggleable__content {max-height: 0;max-width: 0;overflow: hidden;text-align: left;background-color: #f0f8ff;}#sk-container-id-1 div.sk-toggleable__content pre {margin: 0.2em;color: black;border-radius: 0.25em;background-color: #f0f8ff;}#sk-container-id-1 input.sk-toggleable__control:checked~div.sk-toggleable__content {max-height: 200px;max-width: 100%;overflow: auto;}#sk-container-id-1 input.sk-toggleable__control:checked~label.sk-toggleable__label-arrow:before {content: \"▾\";}#sk-container-id-1 div.sk-estimator input.sk-toggleable__control:checked~label.sk-toggleable__label {background-color: #d4ebff;}#sk-container-id-1 div.sk-label input.sk-toggleable__control:checked~label.sk-toggleable__label {background-color: #d4ebff;}#sk-container-id-1 input.sk-hidden--visually {border: 0;clip: rect(1px 1px 1px 1px);clip: rect(1px, 1px, 1px, 1px);height: 1px;margin: -1px;overflow: hidden;padding: 0;position: absolute;width: 1px;}#sk-container-id-1 div.sk-estimator {font-family: monospace;background-color: #f0f8ff;border: 1px dotted black;border-radius: 0.25em;box-sizing: border-box;margin-bottom: 0.5em;}#sk-container-id-1 div.sk-estimator:hover {background-color: #d4ebff;}#sk-container-id-1 div.sk-parallel-item::after {content: \"\";width: 100%;border-bottom: 1px solid gray;flex-grow: 1;}#sk-container-id-1 div.sk-label:hover label.sk-toggleable__label {background-color: #d4ebff;}#sk-container-id-1 div.sk-serial::before {content: \"\";position: absolute;border-left: 1px solid gray;box-sizing: border-box;top: 0;bottom: 0;left: 50%;z-index: 0;}#sk-container-id-1 div.sk-serial {display: flex;flex-direction: column;align-items: center;background-color: white;padding-right: 0.2em;padding-left: 0.2em;position: relative;}#sk-container-id-1 div.sk-item {position: relative;z-index: 1;}#sk-container-id-1 div.sk-parallel {display: flex;align-items: stretch;justify-content: center;background-color: white;position: relative;}#sk-container-id-1 div.sk-item::before, #sk-container-id-1 div.sk-parallel-item::before {content: \"\";position: absolute;border-left: 1px solid gray;box-sizing: border-box;top: 0;bottom: 0;left: 50%;z-index: -1;}#sk-container-id-1 div.sk-parallel-item {display: flex;flex-direction: column;z-index: 1;position: relative;background-color: white;}#sk-container-id-1 div.sk-parallel-item:first-child::after {align-self: flex-end;width: 50%;}#sk-container-id-1 div.sk-parallel-item:last-child::after {align-self: flex-start;width: 50%;}#sk-container-id-1 div.sk-parallel-item:only-child::after {width: 0;}#sk-container-id-1 div.sk-dashed-wrapped {border: 1px dashed gray;margin: 0 0.4em 0.5em 0.4em;box-sizing: border-box;padding-bottom: 0.4em;background-color: white;}#sk-container-id-1 div.sk-label label {font-family: monospace;font-weight: bold;display: inline-block;line-height: 1.2em;}#sk-container-id-1 div.sk-label-container {text-align: center;}#sk-container-id-1 div.sk-container {/* jupyter's `normalize.less` sets `[hidden] { display: none; }` but bootstrap.min.css set `[hidden] { display: none !important; }` so we also need the `!important` here to be able to override the default hidden behavior on the sphinx rendered scikit-learn.org. See: https://github.com/scikit-learn/scikit-learn/issues/21755 */display: inline-block !important;position: relative;}#sk-container-id-1 div.sk-text-repr-fallback {display: none;}</style><div id=\"sk-container-id-1\" class=\"sk-top-container\"><div class=\"sk-text-repr-fallback\"><pre>LinearRegression()</pre><b>In a Jupyter environment, please rerun this cell to show the HTML representation or trust the notebook. <br />On GitHub, the HTML representation is unable to render, please try loading this page with nbviewer.org.</b></div><div class=\"sk-container\" hidden><div class=\"sk-item\"><div class=\"sk-estimator sk-toggleable\"><input class=\"sk-toggleable__control sk-hidden--visually\" id=\"sk-estimator-id-1\" type=\"checkbox\" checked><label for=\"sk-estimator-id-1\" class=\"sk-toggleable__label sk-toggleable__label-arrow\">LinearRegression</label><div class=\"sk-toggleable__content\"><pre>LinearRegression()</pre></div></div></div></div></div>"
      ],
      "text/plain": [
       "LinearRegression()"
      ]
     },
     "execution_count": 30,
     "metadata": {},
     "output_type": "execute_result"
    }
   ],
   "source": [
    "lr.fit(X_train, y_train)"
   ]
  },
  {
   "cell_type": "code",
   "execution_count": 32,
   "id": "852a1566-e8ea-423d-b5a2-183c6bb253ee",
   "metadata": {},
   "outputs": [],
   "source": [
    "y_pred = lr.predict(X_test)"
   ]
  },
  {
   "cell_type": "code",
   "execution_count": 34,
   "id": "6ed7a745-c33c-44a3-8c71-4b8d02390c37",
   "metadata": {},
   "outputs": [
    {
     "name": "stdout",
     "output_type": "stream",
     "text": [
      "Mean Absolute Error:  32.934283837718795\n",
      "Mean Squared Error:  1585.0000067002948\n",
      "R2 score:  0.7886841196116241\n"
     ]
    }
   ],
   "source": [
    "print(\"Mean Absolute Error: \", mean_absolute_error(y_test, y_pred))\n",
    "print(\"Mean Squared Error: \", mean_squared_error(y_test, y_pred))\n",
    "print(\"R2 score: \", r2_score(y_test, y_pred))"
   ]
  },
  {
   "cell_type": "code",
   "execution_count": 41,
   "id": "276dbc22-f2ea-4dc0-b8b4-3c98a400237e",
   "metadata": {},
   "outputs": [
    {
     "data": {
      "application/vnd.plotly.v1+json": {
       "config": {
        "plotlyServerURL": "https://plot.ly"
       },
       "data": [
        {
         "hovertemplate": "feature1=%{x}<br>feature2=%{y}<br>target=%{z}<extra></extra>",
         "legendgroup": "",
         "marker": {
          "color": "#636efa",
          "symbol": "circle"
         },
         "mode": "markers",
         "name": "",
         "scene": "scene",
         "showlegend": false,
         "type": "scatter3d",
         "x": [
          0.12526443096532686,
          0.48932075995003516,
          -1.0939275900979317,
          1.9429637253869907,
          -1.262231871225958,
          1.280677968436593,
          0.26270387335661216,
          1.6916769692052915,
          -0.7924394972758289,
          0.5623002291673495,
          -0.8767640544902346,
          -0.9868279147664644,
          0.15080341239597025,
          -1.4319317122790116,
          -0.39638113336532144,
          -1.600254327693883,
          0.0804326625199886,
          0.01714781667871619,
          -0.7488295175582479,
          -1.0663160595670755,
          -0.9597025760950704,
          -0.5070558273773378,
          -1.470477249590707,
          -0.568519926055607,
          -0.8317146030936844,
          2.382444407379049,
          0.22609807800878312,
          -0.05175215047002742,
          -0.21346682528219718,
          -1.383310393718448,
          -1.7070186949361186,
          1.3543949578523828,
          0.6206358657306146,
          -1.1553049117440175,
          0.12955446097554943,
          -0.3285203413785415,
          -1.4726250348239396,
          0.19040896551345593,
          0.1919628062414977,
          -0.7822078031499083,
          -0.686587644608777,
          -0.670385151283096,
          1.0173298798364112,
          -0.059651577784440704,
          -1.1188660062710327,
          0.6179242671693749,
          -1.1757807706929595,
          -0.9804106295151219,
          -1.258243352933031,
          1.467124761180574,
          0.3382734551317511,
          2.4756854270245476,
          0.5838390731646389,
          -0.00637382183988534,
          -1.1928823902278882,
          0.8871573032583563,
          1.2337178213484286,
          -2.376597412149679,
          -0.08237596453646716,
          0.7807188298883325,
          2.0460172180896623,
          -0.03454551006268879,
          -0.5709233926379559,
          1.745119240958448,
          0.963337222658344,
          -2.4046509797459237,
          -0.5792929926661531,
          -0.24620596240434894,
          1.452850127855491,
          -0.8150487607878686,
          -0.10862093072413787,
          0.18038003093609448,
          0.33538687548487656,
          -0.7586609637539841,
          0.29436859467914006,
          -0.9088068580692025,
          -0.9080364546480454,
          0.1388871408478154,
          -0.0650739149216401,
          -0.2751334329768556,
          1.423987376307553,
          0.8129993380022232,
          -1.1877864529685112,
          0.0889463606316087,
          -0.3122831702128403,
          0.2734141283872718,
          -0.8063249761382717,
          -1.2485686801184348,
          0.24470299503195433,
          1.8876125516332076,
          -1.0164918441351243,
          -1.1704287263371125,
          -0.6205703949670892,
          0.7189077817511069,
          -0.6735231739314768,
          0.11656151151389475,
          -1.0350711790205673,
          0.2644796485021686,
          0.6142943022496723,
          -1.8676777600940575
         ],
         "y": [
          -0.28949335987365044,
          -0.1654266941037119,
          -1.769879577060749,
          0.7275044729404286,
          -0.8182730113213789,
          0.4915870580332241,
          -0.9647047208960245,
          0.7053818452194153,
          -0.6243599742358067,
          0.24078659380431575,
          -0.20498685364268038,
          0.9302382182587439,
          -0.4455859396048868,
          0.05489534149984798,
          -1.1655428601158648,
          -0.8602434021522738,
          1.093518793728889,
          -1.0456297272031696,
          -0.5909306192884535,
          -0.1280169542078764,
          1.4603681516091214,
          -1.9758354087915142,
          0.0642175203800051,
          0.034796881439954803,
          0.371126851795603,
          -1.4255832206001438,
          0.13656753973438285,
          -0.7302794177072378,
          0.31124269097352714,
          -0.9630611778302002,
          0.6374313982750894,
          0.777774849155511,
          0.9913693347005254,
          -2.4360728385083945,
          0.4996131773568769,
          0.5202981285283453,
          0.16836846638676922,
          -0.6222878752655276,
          0.03530908874712601,
          0.8926676978253507,
          -1.1102351858844912,
          -1.522980692931229,
          -1.1328145987719107,
          0.38693265609107724,
          0.12872607733084415,
          -0.6596172862000111,
          0.3924707171155745,
          0.962944403464303,
          -1.1408858147906886,
          0.8469499047150998,
          0.6194487756707736,
          -0.05602012203332691,
          -1.4113329039840905,
          0.6706773939802136,
          0.1255246870583658,
          0.2273958049301893,
          -0.6522260970078751,
          0.2503964810087535,
          0.12668980864579638,
          0.9290488897220924,
          2.1119363910730367,
          0.8594027919219734,
          -0.4150571379611528,
          1.3084878469680583,
          0.565345520702372,
          -0.5585081483748462,
          -0.31209349811927894,
          2.6157766751382656,
          0.20728685229986252,
          -0.0617803161322389,
          -0.012294911534496881,
          1.3844470426196016,
          -0.04872890615796278,
          1.0905367351480384,
          -0.015908200156540122,
          0.08722647898075904,
          0.568421774277876,
          0.4636685740358588,
          1.7803563157776203,
          -0.09183186969441302,
          1.1979478837258912,
          0.4725208023195287,
          0.1777032623908952,
          -0.04852734083384953,
          -1.2875921420947094,
          -0.10976154097034771,
          -0.29536050834089306,
          0.6653623619169606,
          -1.4966330587332886,
          0.7118765740474294,
          2.1401009365899193,
          -0.7469967403490688,
          -0.23491691434210218,
          0.06863509031816004,
          0.43620413915880246,
          -0.4377944575506933,
          -0.06471465285892235,
          1.8353249755629113,
          -0.34042870041354995,
          -0.6744613689601999
         ],
         "z": [
          -38.70642185283364,
          51.300418572364535,
          -95.33111544088878,
          143.3867285216346,
          -148.57894895522546,
          176.56029428543525,
          46.279426625110574,
          106.330068754398,
          -71.66167781673644,
          94.41177392650022,
          0.265768550876615,
          -110.37206510145688,
          -4.641688171411181,
          -100.61250051236232,
          -84.8237365322115,
          -127.0218489006856,
          76.22773704158305,
          -83.28505074891467,
          -113.026678461758,
          -48.17051773254586,
          10.605580129159243,
          -79.71230162559124,
          -139.79211124469444,
          -119.9060952823717,
          -104.02092045971307,
          116.39048234115161,
          19.6948142753232,
          -36.56039562942082,
          63.12155314661527,
          -119.55279289898297,
          -166.9076047970542,
          124.92101057371602,
          82.81526988775157,
          -267.0049716771074,
          68.54886024829517,
          -96.0380240805488,
          -132.15243059427027,
          32.4529232253895,
          22.560693953817943,
          -62.37483698713471,
          -144.60232312417065,
          -154.38151348311123,
          8.272205368533214,
          6.274198194617437,
          -68.41206951937215,
          21.56884783329005,
          -22.530579420520453,
          -122.9598911009833,
          -161.1838104676516,
          151.81849187995118,
          97.07407218447736,
          334.1789638530755,
          4.713569870759834,
          -58.81114372113905,
          -73.90107574193382,
          168.3346750187672,
          86.58648553611157,
          -297.7380714758168,
          76.52859541544301,
          168.22759850378606,
          384.3260435999605,
          -6.881270707040649,
          2.764243556079407,
          216.84580277900284,
          197.8944699847285,
          -316.3937849210136,
          -4.084945542319645,
          121.27004206531598,
          173.49738399893855,
          -88.86548979617643,
          43.312539911379105,
          90.6254847523319,
          0.8499552705178601,
          26.97541046516342,
          -0.344265226918818,
          -16.729006618743256,
          -108.07708225833389,
          32.13749717113266,
          98.85335072992069,
          -36.65202495574407,
          258.8119743883325,
          124.54033003645884,
          -131.184076593556,
          -26.95492022904376,
          -134.53431433891592,
          -33.564232463788485,
          -58.01259356847632,
          -71.09084001288483,
          -8.753306599988044,
          211.08265976212812,
          -79.50086256851195,
          -160.99866612163382,
          -58.92842195362945,
          43.76412536323262,
          -63.3637310022295,
          -11.731383301512254,
          -107.11369987525659,
          77.32352568246735,
          27.742539317350783,
          -218.03868921583987
         ]
        },
        {
         "type": "surface",
         "x": [
          -5,
          -3.888888888888889,
          -2.7777777777777777,
          -1.6666666666666665,
          -0.5555555555555554,
          0.5555555555555554,
          1.666666666666667,
          2.7777777777777786,
          3.8888888888888893,
          5
         ],
         "y": [
          -5,
          -3.888888888888889,
          -2.7777777777777777,
          -1.6666666666666665,
          -0.5555555555555554,
          0.5555555555555554,
          1.666666666666667,
          2.7777777777777786,
          3.8888888888888893,
          5
         ],
         "z": [
          [
           -658.2584977726887,
           -610.2014211681246,
           -562.1443445635605,
           -514.0872679589964,
           -466.0301913544324,
           -417.9731147498684,
           -369.9160381453043,
           -321.8589615407402,
           -273.8018849361762,
           -225.7448083316122
          ],
          [
           -561.9149128129486,
           -513.8578362083846,
           -465.80075960382055,
           -417.7436829992565,
           -369.68660639469243,
           -321.6295297901284,
           -273.5724531855643,
           -225.51537658100028,
           -177.45829997643625,
           -129.40122337187222
          ],
          [
           -465.5713278532087,
           -417.51425124864465,
           -369.45717464408057,
           -321.40009803951654,
           -273.34302143495245,
           -225.28594483038847,
           -177.2288682258244,
           -129.17179162126033,
           -81.11471501669628,
           -33.05763841213225
          ],
          [
           -369.22774289346876,
           -321.17066628890467,
           -273.11358968434064,
           -225.0565130797766,
           -176.99943647521255,
           -128.94235987064852,
           -80.88528326608443,
           -32.828206661520355,
           15.228869943043673,
           63.28594654760771
          ],
          [
           -272.8841579337287,
           -224.8270813291647,
           -176.77000472460068,
           -128.71292812003662,
           -80.65585151547255,
           -32.59877491090852,
           15.458301693655553,
           63.51537829821963,
           111.57245490278366,
           159.62953150734768
          ],
          [
           -176.54057297398884,
           -128.48349636942478,
           -80.42641976486073,
           -32.36934316029668,
           15.687733444267376,
           63.74481004883141,
           111.80188665339548,
           159.85896325795954,
           207.91603986252358,
           255.97311646708758
          ],
          [
           -80.19698801424882,
           -32.13991140968476,
           15.917165194879285,
           63.974241799443334,
           112.0313184040074,
           160.0883950085714,
           208.14547161313547,
           256.2025482176996,
           304.2596248222636,
           352.31670142682765
          ],
          [
           16.146596945491194,
           64.20367355005526,
           112.2607501546193,
           160.31782675918333,
           208.3749033637474,
           256.43197996831145,
           304.48905657287554,
           352.54613317743963,
           400.60320978200366,
           448.6602863865677
          ],
          [
           112.49018190523113,
           160.54725850979517,
           208.6043351143592,
           256.6614117189233,
           304.71848832348735,
           352.7755649280514,
           400.83264153261547,
           448.88971813717956,
           496.9467947417436,
           545.0038713463076
          ],
          [
           208.83376686497104,
           256.8908434695351,
           304.94792007409916,
           353.00499667866325,
           401.0620732832273,
           449.1191498877913,
           497.1762264923554,
           545.2333030969195,
           593.2903797014835,
           641.3474563060475
          ]
         ]
        }
       ],
       "layout": {
        "autosize": true,
        "legend": {
         "tracegroupgap": 0
        },
        "margin": {
         "t": 60
        },
        "scene": {
         "aspectmode": "auto",
         "aspectratio": {
          "x": 1,
          "y": 1,
          "z": 1
         },
         "camera": {
          "center": {
           "x": 0,
           "y": 0,
           "z": 0
          },
          "eye": {
           "x": 2.540881155655541,
           "y": -0.20048694182306517,
           "z": 0.7626483974079415
          },
          "projection": {
           "type": "perspective"
          },
          "up": {
           "x": 0,
           "y": 0,
           "z": 1
          }
         },
         "domain": {
          "x": [
           0,
           1
          ],
          "y": [
           0,
           1
          ]
         },
         "xaxis": {
          "title": {
           "text": "feature1"
          },
          "type": "linear"
         },
         "yaxis": {
          "title": {
           "text": "feature2"
          },
          "type": "linear"
         },
         "zaxis": {
          "title": {
           "text": "target"
          },
          "type": "linear"
         }
        },
        "template": {
         "data": {
          "bar": [
           {
            "error_x": {
             "color": "#2a3f5f"
            },
            "error_y": {
             "color": "#2a3f5f"
            },
            "marker": {
             "line": {
              "color": "#E5ECF6",
              "width": 0.5
             },
             "pattern": {
              "fillmode": "overlay",
              "size": 10,
              "solidity": 0.2
             }
            },
            "type": "bar"
           }
          ],
          "barpolar": [
           {
            "marker": {
             "line": {
              "color": "#E5ECF6",
              "width": 0.5
             },
             "pattern": {
              "fillmode": "overlay",
              "size": 10,
              "solidity": 0.2
             }
            },
            "type": "barpolar"
           }
          ],
          "carpet": [
           {
            "aaxis": {
             "endlinecolor": "#2a3f5f",
             "gridcolor": "white",
             "linecolor": "white",
             "minorgridcolor": "white",
             "startlinecolor": "#2a3f5f"
            },
            "baxis": {
             "endlinecolor": "#2a3f5f",
             "gridcolor": "white",
             "linecolor": "white",
             "minorgridcolor": "white",
             "startlinecolor": "#2a3f5f"
            },
            "type": "carpet"
           }
          ],
          "choropleth": [
           {
            "colorbar": {
             "outlinewidth": 0,
             "ticks": ""
            },
            "type": "choropleth"
           }
          ],
          "contour": [
           {
            "colorbar": {
             "outlinewidth": 0,
             "ticks": ""
            },
            "colorscale": [
             [
              0,
              "#0d0887"
             ],
             [
              0.1111111111111111,
              "#46039f"
             ],
             [
              0.2222222222222222,
              "#7201a8"
             ],
             [
              0.3333333333333333,
              "#9c179e"
             ],
             [
              0.4444444444444444,
              "#bd3786"
             ],
             [
              0.5555555555555556,
              "#d8576b"
             ],
             [
              0.6666666666666666,
              "#ed7953"
             ],
             [
              0.7777777777777778,
              "#fb9f3a"
             ],
             [
              0.8888888888888888,
              "#fdca26"
             ],
             [
              1,
              "#f0f921"
             ]
            ],
            "type": "contour"
           }
          ],
          "contourcarpet": [
           {
            "colorbar": {
             "outlinewidth": 0,
             "ticks": ""
            },
            "type": "contourcarpet"
           }
          ],
          "heatmap": [
           {
            "colorbar": {
             "outlinewidth": 0,
             "ticks": ""
            },
            "colorscale": [
             [
              0,
              "#0d0887"
             ],
             [
              0.1111111111111111,
              "#46039f"
             ],
             [
              0.2222222222222222,
              "#7201a8"
             ],
             [
              0.3333333333333333,
              "#9c179e"
             ],
             [
              0.4444444444444444,
              "#bd3786"
             ],
             [
              0.5555555555555556,
              "#d8576b"
             ],
             [
              0.6666666666666666,
              "#ed7953"
             ],
             [
              0.7777777777777778,
              "#fb9f3a"
             ],
             [
              0.8888888888888888,
              "#fdca26"
             ],
             [
              1,
              "#f0f921"
             ]
            ],
            "type": "heatmap"
           }
          ],
          "heatmapgl": [
           {
            "colorbar": {
             "outlinewidth": 0,
             "ticks": ""
            },
            "colorscale": [
             [
              0,
              "#0d0887"
             ],
             [
              0.1111111111111111,
              "#46039f"
             ],
             [
              0.2222222222222222,
              "#7201a8"
             ],
             [
              0.3333333333333333,
              "#9c179e"
             ],
             [
              0.4444444444444444,
              "#bd3786"
             ],
             [
              0.5555555555555556,
              "#d8576b"
             ],
             [
              0.6666666666666666,
              "#ed7953"
             ],
             [
              0.7777777777777778,
              "#fb9f3a"
             ],
             [
              0.8888888888888888,
              "#fdca26"
             ],
             [
              1,
              "#f0f921"
             ]
            ],
            "type": "heatmapgl"
           }
          ],
          "histogram": [
           {
            "marker": {
             "pattern": {
              "fillmode": "overlay",
              "size": 10,
              "solidity": 0.2
             }
            },
            "type": "histogram"
           }
          ],
          "histogram2d": [
           {
            "colorbar": {
             "outlinewidth": 0,
             "ticks": ""
            },
            "colorscale": [
             [
              0,
              "#0d0887"
             ],
             [
              0.1111111111111111,
              "#46039f"
             ],
             [
              0.2222222222222222,
              "#7201a8"
             ],
             [
              0.3333333333333333,
              "#9c179e"
             ],
             [
              0.4444444444444444,
              "#bd3786"
             ],
             [
              0.5555555555555556,
              "#d8576b"
             ],
             [
              0.6666666666666666,
              "#ed7953"
             ],
             [
              0.7777777777777778,
              "#fb9f3a"
             ],
             [
              0.8888888888888888,
              "#fdca26"
             ],
             [
              1,
              "#f0f921"
             ]
            ],
            "type": "histogram2d"
           }
          ],
          "histogram2dcontour": [
           {
            "colorbar": {
             "outlinewidth": 0,
             "ticks": ""
            },
            "colorscale": [
             [
              0,
              "#0d0887"
             ],
             [
              0.1111111111111111,
              "#46039f"
             ],
             [
              0.2222222222222222,
              "#7201a8"
             ],
             [
              0.3333333333333333,
              "#9c179e"
             ],
             [
              0.4444444444444444,
              "#bd3786"
             ],
             [
              0.5555555555555556,
              "#d8576b"
             ],
             [
              0.6666666666666666,
              "#ed7953"
             ],
             [
              0.7777777777777778,
              "#fb9f3a"
             ],
             [
              0.8888888888888888,
              "#fdca26"
             ],
             [
              1,
              "#f0f921"
             ]
            ],
            "type": "histogram2dcontour"
           }
          ],
          "mesh3d": [
           {
            "colorbar": {
             "outlinewidth": 0,
             "ticks": ""
            },
            "type": "mesh3d"
           }
          ],
          "parcoords": [
           {
            "line": {
             "colorbar": {
              "outlinewidth": 0,
              "ticks": ""
             }
            },
            "type": "parcoords"
           }
          ],
          "pie": [
           {
            "automargin": true,
            "type": "pie"
           }
          ],
          "scatter": [
           {
            "fillpattern": {
             "fillmode": "overlay",
             "size": 10,
             "solidity": 0.2
            },
            "type": "scatter"
           }
          ],
          "scatter3d": [
           {
            "line": {
             "colorbar": {
              "outlinewidth": 0,
              "ticks": ""
             }
            },
            "marker": {
             "colorbar": {
              "outlinewidth": 0,
              "ticks": ""
             }
            },
            "type": "scatter3d"
           }
          ],
          "scattercarpet": [
           {
            "marker": {
             "colorbar": {
              "outlinewidth": 0,
              "ticks": ""
             }
            },
            "type": "scattercarpet"
           }
          ],
          "scattergeo": [
           {
            "marker": {
             "colorbar": {
              "outlinewidth": 0,
              "ticks": ""
             }
            },
            "type": "scattergeo"
           }
          ],
          "scattergl": [
           {
            "marker": {
             "colorbar": {
              "outlinewidth": 0,
              "ticks": ""
             }
            },
            "type": "scattergl"
           }
          ],
          "scattermapbox": [
           {
            "marker": {
             "colorbar": {
              "outlinewidth": 0,
              "ticks": ""
             }
            },
            "type": "scattermapbox"
           }
          ],
          "scatterpolar": [
           {
            "marker": {
             "colorbar": {
              "outlinewidth": 0,
              "ticks": ""
             }
            },
            "type": "scatterpolar"
           }
          ],
          "scatterpolargl": [
           {
            "marker": {
             "colorbar": {
              "outlinewidth": 0,
              "ticks": ""
             }
            },
            "type": "scatterpolargl"
           }
          ],
          "scatterternary": [
           {
            "marker": {
             "colorbar": {
              "outlinewidth": 0,
              "ticks": ""
             }
            },
            "type": "scatterternary"
           }
          ],
          "surface": [
           {
            "colorbar": {
             "outlinewidth": 0,
             "ticks": ""
            },
            "colorscale": [
             [
              0,
              "#0d0887"
             ],
             [
              0.1111111111111111,
              "#46039f"
             ],
             [
              0.2222222222222222,
              "#7201a8"
             ],
             [
              0.3333333333333333,
              "#9c179e"
             ],
             [
              0.4444444444444444,
              "#bd3786"
             ],
             [
              0.5555555555555556,
              "#d8576b"
             ],
             [
              0.6666666666666666,
              "#ed7953"
             ],
             [
              0.7777777777777778,
              "#fb9f3a"
             ],
             [
              0.8888888888888888,
              "#fdca26"
             ],
             [
              1,
              "#f0f921"
             ]
            ],
            "type": "surface"
           }
          ],
          "table": [
           {
            "cells": {
             "fill": {
              "color": "#EBF0F8"
             },
             "line": {
              "color": "white"
             }
            },
            "header": {
             "fill": {
              "color": "#C8D4E3"
             },
             "line": {
              "color": "white"
             }
            },
            "type": "table"
           }
          ]
         },
         "layout": {
          "annotationdefaults": {
           "arrowcolor": "#2a3f5f",
           "arrowhead": 0,
           "arrowwidth": 1
          },
          "autotypenumbers": "strict",
          "coloraxis": {
           "colorbar": {
            "outlinewidth": 0,
            "ticks": ""
           }
          },
          "colorscale": {
           "diverging": [
            [
             0,
             "#8e0152"
            ],
            [
             0.1,
             "#c51b7d"
            ],
            [
             0.2,
             "#de77ae"
            ],
            [
             0.3,
             "#f1b6da"
            ],
            [
             0.4,
             "#fde0ef"
            ],
            [
             0.5,
             "#f7f7f7"
            ],
            [
             0.6,
             "#e6f5d0"
            ],
            [
             0.7,
             "#b8e186"
            ],
            [
             0.8,
             "#7fbc41"
            ],
            [
             0.9,
             "#4d9221"
            ],
            [
             1,
             "#276419"
            ]
           ],
           "sequential": [
            [
             0,
             "#0d0887"
            ],
            [
             0.1111111111111111,
             "#46039f"
            ],
            [
             0.2222222222222222,
             "#7201a8"
            ],
            [
             0.3333333333333333,
             "#9c179e"
            ],
            [
             0.4444444444444444,
             "#bd3786"
            ],
            [
             0.5555555555555556,
             "#d8576b"
            ],
            [
             0.6666666666666666,
             "#ed7953"
            ],
            [
             0.7777777777777778,
             "#fb9f3a"
            ],
            [
             0.8888888888888888,
             "#fdca26"
            ],
            [
             1,
             "#f0f921"
            ]
           ],
           "sequentialminus": [
            [
             0,
             "#0d0887"
            ],
            [
             0.1111111111111111,
             "#46039f"
            ],
            [
             0.2222222222222222,
             "#7201a8"
            ],
            [
             0.3333333333333333,
             "#9c179e"
            ],
            [
             0.4444444444444444,
             "#bd3786"
            ],
            [
             0.5555555555555556,
             "#d8576b"
            ],
            [
             0.6666666666666666,
             "#ed7953"
            ],
            [
             0.7777777777777778,
             "#fb9f3a"
            ],
            [
             0.8888888888888888,
             "#fdca26"
            ],
            [
             1,
             "#f0f921"
            ]
           ]
          },
          "colorway": [
           "#636efa",
           "#EF553B",
           "#00cc96",
           "#ab63fa",
           "#FFA15A",
           "#19d3f3",
           "#FF6692",
           "#B6E880",
           "#FF97FF",
           "#FECB52"
          ],
          "font": {
           "color": "#2a3f5f"
          },
          "geo": {
           "bgcolor": "white",
           "lakecolor": "white",
           "landcolor": "#E5ECF6",
           "showlakes": true,
           "showland": true,
           "subunitcolor": "white"
          },
          "hoverlabel": {
           "align": "left"
          },
          "hovermode": "closest",
          "mapbox": {
           "style": "light"
          },
          "paper_bgcolor": "white",
          "plot_bgcolor": "#E5ECF6",
          "polar": {
           "angularaxis": {
            "gridcolor": "white",
            "linecolor": "white",
            "ticks": ""
           },
           "bgcolor": "#E5ECF6",
           "radialaxis": {
            "gridcolor": "white",
            "linecolor": "white",
            "ticks": ""
           }
          },
          "scene": {
           "xaxis": {
            "backgroundcolor": "#E5ECF6",
            "gridcolor": "white",
            "gridwidth": 2,
            "linecolor": "white",
            "showbackground": true,
            "ticks": "",
            "zerolinecolor": "white"
           },
           "yaxis": {
            "backgroundcolor": "#E5ECF6",
            "gridcolor": "white",
            "gridwidth": 2,
            "linecolor": "white",
            "showbackground": true,
            "ticks": "",
            "zerolinecolor": "white"
           },
           "zaxis": {
            "backgroundcolor": "#E5ECF6",
            "gridcolor": "white",
            "gridwidth": 2,
            "linecolor": "white",
            "showbackground": true,
            "ticks": "",
            "zerolinecolor": "white"
           }
          },
          "shapedefaults": {
           "line": {
            "color": "#2a3f5f"
           }
          },
          "ternary": {
           "aaxis": {
            "gridcolor": "white",
            "linecolor": "white",
            "ticks": ""
           },
           "baxis": {
            "gridcolor": "white",
            "linecolor": "white",
            "ticks": ""
           },
           "bgcolor": "#E5ECF6",
           "caxis": {
            "gridcolor": "white",
            "linecolor": "white",
            "ticks": ""
           }
          },
          "title": {
           "x": 0.05
          },
          "xaxis": {
           "automargin": true,
           "gridcolor": "white",
           "linecolor": "white",
           "ticks": "",
           "title": {
            "standoff": 15
           },
           "zerolinecolor": "white",
           "zerolinewidth": 2
          },
          "yaxis": {
           "automargin": true,
           "gridcolor": "white",
           "linecolor": "white",
           "ticks": "",
           "title": {
            "standoff": 15
           },
           "zerolinecolor": "white",
           "zerolinewidth": 2
          }
         }
        }
       }
      },
      "image/png": "[encoded data removed]",
      "text/html": [
       "<div>                            <div id=\"f23e4982-8b7d-45a7-933c-513972f69870\" class=\"plotly-graph-div\" style=\"height:525px; width:100%;\"></div>            <script type=\"text/javascript\">                require([\"plotly\"], function(Plotly) {                    window.PLOTLYENV=window.PLOTLYENV || {};                                    if (document.getElementById(\"f23e4982-8b7d-45a7-933c-513972f69870\")) {                    Plotly.newPlot(                        \"f23e4982-8b7d-45a7-933c-513972f69870\",                        [{\"hovertemplate\":\"feature1=%{x}<br>feature2=%{y}<br>target=%{z}<extra></extra>\",\"legendgroup\":\"\",\"marker\":{\"color\":\"#636efa\",\"symbol\":\"circle\"},\"mode\":\"markers\",\"name\":\"\",\"scene\":\"scene\",\"showlegend\":false,\"x\":[0.12526443096532686,0.48932075995003516,-1.0939275900979317,1.9429637253869907,-1.262231871225958,1.280677968436593,0.26270387335661216,1.6916769692052915,-0.7924394972758289,0.5623002291673495,-0.8767640544902346,-0.9868279147664644,0.15080341239597025,-1.4319317122790116,-0.39638113336532144,-1.600254327693883,0.0804326625199886,0.01714781667871619,-0.7488295175582479,-1.0663160595670755,-0.9597025760950704,-0.5070558273773378,-1.470477249590707,-0.568519926055607,-0.8317146030936844,2.382444407379049,0.22609807800878312,-0.05175215047002742,-0.21346682528219718,-1.383310393718448,-1.7070186949361186,1.3543949578523828,0.6206358657306146,-1.1553049117440175,0.12955446097554943,-0.3285203413785415,-1.4726250348239396,0.19040896551345593,0.1919628062414977,-0.7822078031499083,-0.686587644608777,-0.670385151283096,1.0173298798364112,-0.059651577784440704,-1.1188660062710327,0.6179242671693749,-1.1757807706929595,-0.9804106295151219,-1.258243352933031,1.467124761180574,0.3382734551317511,2.4756854270245476,0.5838390731646389,-0.00637382183988534,-1.1928823902278882,0.8871573032583563,1.2337178213484286,-2.376597412149679,-0.08237596453646716,0.7807188298883325,2.0460172180896623,-0.03454551006268879,-0.5709233926379559,1.745119240958448,0.963337222658344,-2.4046509797459237,-0.5792929926661531,-0.24620596240434894,1.452850127855491,-0.8150487607878686,-0.10862093072413787,0.18038003093609448,0.33538687548487656,-0.7586609637539841,0.29436859467914006,-0.9088068580692025,-0.9080364546480454,0.1388871408478154,-0.0650739149216401,-0.2751334329768556,1.423987376307553,0.8129993380022232,-1.1877864529685112,0.0889463606316087,-0.3122831702128403,0.2734141283872718,-0.8063249761382717,-1.2485686801184348,0.24470299503195433,1.8876125516332076,-1.0164918441351243,-1.1704287263371125,-0.6205703949670892,0.7189077817511069,-0.6735231739314768,0.11656151151389475,-1.0350711790205673,0.2644796485021686,0.6142943022496723,-1.8676777600940575],\"y\":[-0.28949335987365044,-0.1654266941037119,-1.769879577060749,0.7275044729404286,-0.8182730113213789,0.4915870580332241,-0.9647047208960245,0.7053818452194153,-0.6243599742358067,0.24078659380431575,-0.20498685364268038,0.9302382182587439,-0.4455859396048868,0.05489534149984798,-1.1655428601158648,-0.8602434021522738,1.093518793728889,-1.0456297272031696,-0.5909306192884535,-0.1280169542078764,1.4603681516091214,-1.9758354087915142,0.0642175203800051,0.034796881439954803,0.371126851795603,-1.4255832206001438,0.13656753973438285,-0.7302794177072378,0.31124269097352714,-0.9630611778302002,0.6374313982750894,0.777774849155511,0.9913693347005254,-2.4360728385083945,0.4996131773568769,0.5202981285283453,0.16836846638676922,-0.6222878752655276,0.03530908874712601,0.8926676978253507,-1.1102351858844912,-1.522980692931229,-1.1328145987719107,0.38693265609107724,0.12872607733084415,-0.6596172862000111,0.3924707171155745,0.962944403464303,-1.1408858147906886,0.8469499047150998,0.6194487756707736,-0.05602012203332691,-1.4113329039840905,0.6706773939802136,0.1255246870583658,0.2273958049301893,-0.6522260970078751,0.2503964810087535,0.12668980864579638,0.9290488897220924,2.1119363910730367,0.8594027919219734,-0.4150571379611528,1.3084878469680583,0.565345520702372,-0.5585081483748462,-0.31209349811927894,2.6157766751382656,0.20728685229986252,-0.0617803161322389,-0.012294911534496881,1.3844470426196016,-0.04872890615796278,1.0905367351480384,-0.015908200156540122,0.08722647898075904,0.568421774277876,0.4636685740358588,1.7803563157776203,-0.09183186969441302,1.1979478837258912,0.4725208023195287,0.1777032623908952,-0.04852734083384953,-1.2875921420947094,-0.10976154097034771,-0.29536050834089306,0.6653623619169606,-1.4966330587332886,0.7118765740474294,2.1401009365899193,-0.7469967403490688,-0.23491691434210218,0.06863509031816004,0.43620413915880246,-0.4377944575506933,-0.06471465285892235,1.8353249755629113,-0.34042870041354995,-0.6744613689601999],\"z\":[-38.70642185283364,51.300418572364535,-95.33111544088878,143.3867285216346,-148.57894895522546,176.56029428543525,46.279426625110574,106.330068754398,-71.66167781673644,94.41177392650022,0.265768550876615,-110.37206510145688,-4.641688171411181,-100.61250051236232,-84.8237365322115,-127.0218489006856,76.22773704158305,-83.28505074891467,-113.026678461758,-48.17051773254586,10.605580129159243,-79.71230162559124,-139.79211124469444,-119.9060952823717,-104.02092045971307,116.39048234115161,19.6948142753232,-36.56039562942082,63.12155314661527,-119.55279289898297,-166.9076047970542,124.92101057371602,82.81526988775157,-267.0049716771074,68.54886024829517,-96.0380240805488,-132.15243059427027,32.4529232253895,22.560693953817943,-62.37483698713471,-144.60232312417065,-154.38151348311123,8.272205368533214,6.274198194617437,-68.41206951937215,21.56884783329005,-22.530579420520453,-122.9598911009833,-161.1838104676516,151.81849187995118,97.07407218447736,334.1789638530755,4.713569870759834,-58.81114372113905,-73.90107574193382,168.3346750187672,86.58648553611157,-297.7380714758168,76.52859541544301,168.22759850378606,384.3260435999605,-6.881270707040649,2.764243556079407,216.84580277900284,197.8944699847285,-316.3937849210136,-4.084945542319645,121.27004206531598,173.49738399893855,-88.86548979617643,43.312539911379105,90.6254847523319,0.8499552705178601,26.97541046516342,-0.344265226918818,-16.729006618743256,-108.07708225833389,32.13749717113266,98.85335072992069,-36.65202495574407,258.8119743883325,124.54033003645884,-131.184076593556,-26.95492022904376,-134.53431433891592,-33.564232463788485,-58.01259356847632,-71.09084001288483,-8.753306599988044,211.08265976212812,-79.50086256851195,-160.99866612163382,-58.92842195362945,43.76412536323262,-63.3637310022295,-11.731383301512254,-107.11369987525659,77.32352568246735,27.742539317350783,-218.03868921583987],\"type\":\"scatter3d\"},{\"x\":[-5.0,-3.888888888888889,-2.7777777777777777,-1.6666666666666665,-0.5555555555555554,0.5555555555555554,1.666666666666667,2.7777777777777786,3.8888888888888893,5.0],\"y\":[-5.0,-3.888888888888889,-2.7777777777777777,-1.6666666666666665,-0.5555555555555554,0.5555555555555554,1.666666666666667,2.7777777777777786,3.8888888888888893,5.0],\"z\":[[-658.2584977726887,-610.2014211681246,-562.1443445635605,-514.0872679589964,-466.0301913544324,-417.9731147498684,-369.9160381453043,-321.8589615407402,-273.8018849361762,-225.7448083316122],[-561.9149128129486,-513.8578362083846,-465.80075960382055,-417.7436829992565,-369.68660639469243,-321.6295297901284,-273.5724531855643,-225.51537658100028,-177.45829997643625,-129.40122337187222],[-465.5713278532087,-417.51425124864465,-369.45717464408057,-321.40009803951654,-273.34302143495245,-225.28594483038847,-177.2288682258244,-129.17179162126033,-81.11471501669628,-33.05763841213225],[-369.22774289346876,-321.17066628890467,-273.11358968434064,-225.0565130797766,-176.99943647521255,-128.94235987064852,-80.88528326608443,-32.828206661520355,15.228869943043673,63.28594654760771],[-272.8841579337287,-224.8270813291647,-176.77000472460068,-128.71292812003662,-80.65585151547255,-32.59877491090852,15.458301693655553,63.51537829821963,111.57245490278366,159.62953150734768],[-176.54057297398884,-128.48349636942478,-80.42641976486073,-32.36934316029668,15.687733444267376,63.74481004883141,111.80188665339548,159.85896325795954,207.91603986252358,255.97311646708758],[-80.19698801424882,-32.13991140968476,15.917165194879285,63.974241799443334,112.0313184040074,160.0883950085714,208.14547161313547,256.2025482176996,304.2596248222636,352.31670142682765],[16.146596945491194,64.20367355005526,112.2607501546193,160.31782675918333,208.3749033637474,256.43197996831145,304.48905657287554,352.54613317743963,400.60320978200366,448.6602863865677],[112.49018190523113,160.54725850979517,208.6043351143592,256.6614117189233,304.71848832348735,352.7755649280514,400.83264153261547,448.88971813717956,496.9467947417436,545.0038713463076],[208.83376686497104,256.8908434695351,304.94792007409916,353.00499667866325,401.0620732832273,449.1191498877913,497.1762264923554,545.2333030969195,593.2903797014835,641.3474563060475]],\"type\":\"surface\"}],                        {\"template\":{\"data\":{\"histogram2dcontour\":[{\"type\":\"histogram2dcontour\",\"colorbar\":{\"outlinewidth\":0,\"ticks\":\"\"},\"colorscale\":[[0.0,\"#0d0887\"],[0.1111111111111111,\"#46039f\"],[0.2222222222222222,\"#7201a8\"],[0.3333333333333333,\"#9c179e\"],[0.4444444444444444,\"#bd3786\"],[0.5555555555555556,\"#d8576b\"],[0.6666666666666666,\"#ed7953\"],[0.7777777777777778,\"#fb9f3a\"],[0.8888888888888888,\"#fdca26\"],[1.0,\"#f0f921\"]]}],\"choropleth\":[{\"type\":\"choropleth\",\"colorbar\":{\"outlinewidth\":0,\"ticks\":\"\"}}],\"histogram2d\":[{\"type\":\"histogram2d\",\"colorbar\":{\"outlinewidth\":0,\"ticks\":\"\"},\"colorscale\":[[0.0,\"#0d0887\"],[0.1111111111111111,\"#46039f\"],[0.2222222222222222,\"#7201a8\"],[0.3333333333333333,\"#9c179e\"],[0.4444444444444444,\"#bd3786\"],[0.5555555555555556,\"#d8576b\"],[0.6666666666666666,\"#ed7953\"],[0.7777777777777778,\"#fb9f3a\"],[0.8888888888888888,\"#fdca26\"],[1.0,\"#f0f921\"]]}],\"heatmap\":[{\"type\":\"heatmap\",\"colorbar\":{\"outlinewidth\":0,\"ticks\":\"\"},\"colorscale\":[[0.0,\"#0d0887\"],[0.1111111111111111,\"#46039f\"],[0.2222222222222222,\"#7201a8\"],[0.3333333333333333,\"#9c179e\"],[0.4444444444444444,\"#bd3786\"],[0.5555555555555556,\"#d8576b\"],[0.6666666666666666,\"#ed7953\"],[0.7777777777777778,\"#fb9f3a\"],[0.8888888888888888,\"#fdca26\"],[1.0,\"#f0f921\"]]}],\"heatmapgl\":[{\"type\":\"heatmapgl\",\"colorbar\":{\"outlinewidth\":0,\"ticks\":\"\"},\"colorscale\":[[0.0,\"#0d0887\"],[0.1111111111111111,\"#46039f\"],[0.2222222222222222,\"#7201a8\"],[0.3333333333333333,\"#9c179e\"],[0.4444444444444444,\"#bd3786\"],[0.5555555555555556,\"#d8576b\"],[0.6666666666666666,\"#ed7953\"],[0.7777777777777778,\"#fb9f3a\"],[0.8888888888888888,\"#fdca26\"],[1.0,\"#f0f921\"]]}],\"contourcarpet\":[{\"type\":\"contourcarpet\",\"colorbar\":{\"outlinewidth\":0,\"ticks\":\"\"}}],\"contour\":[{\"type\":\"contour\",\"colorbar\":{\"outlinewidth\":0,\"ticks\":\"\"},\"colorscale\":[[0.0,\"#0d0887\"],[0.1111111111111111,\"#46039f\"],[0.2222222222222222,\"#7201a8\"],[0.3333333333333333,\"#9c179e\"],[0.4444444444444444,\"#bd3786\"],[0.5555555555555556,\"#d8576b\"],[0.6666666666666666,\"#ed7953\"],[0.7777777777777778,\"#fb9f3a\"],[0.8888888888888888,\"#fdca26\"],[1.0,\"#f0f921\"]]}],\"surface\":[{\"type\":\"surface\",\"colorbar\":{\"outlinewidth\":0,\"ticks\":\"\"},\"colorscale\":[[0.0,\"#0d0887\"],[0.1111111111111111,\"#46039f\"],[0.2222222222222222,\"#7201a8\"],[0.3333333333333333,\"#9c179e\"],[0.4444444444444444,\"#bd3786\"],[0.5555555555555556,\"#d8576b\"],[0.6666666666666666,\"#ed7953\"],[0.7777777777777778,\"#fb9f3a\"],[0.8888888888888888,\"#fdca26\"],[1.0,\"#f0f921\"]]}],\"mesh3d\":[{\"type\":\"mesh3d\",\"colorbar\":{\"outlinewidth\":0,\"ticks\":\"\"}}],\"scatter\":[{\"fillpattern\":{\"fillmode\":\"overlay\",\"size\":10,\"solidity\":0.2},\"type\":\"scatter\"}],\"parcoords\":[{\"type\":\"parcoords\",\"line\":{\"colorbar\":{\"outlinewidth\":0,\"ticks\":\"\"}}}],\"scatterpolargl\":[{\"type\":\"scatterpolargl\",\"marker\":{\"colorbar\":{\"outlinewidth\":0,\"ticks\":\"\"}}}],\"bar\":[{\"error_x\":{\"color\":\"#2a3f5f\"},\"error_y\":{\"color\":\"#2a3f5f\"},\"marker\":{\"line\":{\"color\":\"#E5ECF6\",\"width\":0.5},\"pattern\":{\"fillmode\":\"overlay\",\"size\":10,\"solidity\":0.2}},\"type\":\"bar\"}],\"scattergeo\":[{\"type\":\"scattergeo\",\"marker\":{\"colorbar\":{\"outlinewidth\":0,\"ticks\":\"\"}}}],\"scatterpolar\":[{\"type\":\"scatterpolar\",\"marker\":{\"colorbar\":{\"outlinewidth\":0,\"ticks\":\"\"}}}],\"histogram\":[{\"marker\":{\"pattern\":{\"fillmode\":\"overlay\",\"size\":10,\"solidity\":0.2}},\"type\":\"histogram\"}],\"scattergl\":[{\"type\":\"scattergl\",\"marker\":{\"colorbar\":{\"outlinewidth\":0,\"ticks\":\"\"}}}],\"scatter3d\":[{\"type\":\"scatter3d\",\"line\":{\"colorbar\":{\"outlinewidth\":0,\"ticks\":\"\"}},\"marker\":{\"colorbar\":{\"outlinewidth\":0,\"ticks\":\"\"}}}],\"scattermapbox\":[{\"type\":\"scattermapbox\",\"marker\":{\"colorbar\":{\"outlinewidth\":0,\"ticks\":\"\"}}}],\"scatterternary\":[{\"type\":\"scatterternary\",\"marker\":{\"colorbar\":{\"outlinewidth\":0,\"ticks\":\"\"}}}],\"scattercarpet\":[{\"type\":\"scattercarpet\",\"marker\":{\"colorbar\":{\"outlinewidth\":0,\"ticks\":\"\"}}}],\"carpet\":[{\"aaxis\":{\"endlinecolor\":\"#2a3f5f\",\"gridcolor\":\"white\",\"linecolor\":\"white\",\"minorgridcolor\":\"white\",\"startlinecolor\":\"#2a3f5f\"},\"baxis\":{\"endlinecolor\":\"#2a3f5f\",\"gridcolor\":\"white\",\"linecolor\":\"white\",\"minorgridcolor\":\"white\",\"startlinecolor\":\"#2a3f5f\"},\"type\":\"carpet\"}],\"table\":[{\"cells\":{\"fill\":{\"color\":\"#EBF0F8\"},\"line\":{\"color\":\"white\"}},\"header\":{\"fill\":{\"color\":\"#C8D4E3\"},\"line\":{\"color\":\"white\"}},\"type\":\"table\"}],\"barpolar\":[{\"marker\":{\"line\":{\"color\":\"#E5ECF6\",\"width\":0.5},\"pattern\":{\"fillmode\":\"overlay\",\"size\":10,\"solidity\":0.2}},\"type\":\"barpolar\"}],\"pie\":[{\"automargin\":true,\"type\":\"pie\"}]},\"layout\":{\"autotypenumbers\":\"strict\",\"colorway\":[\"#636efa\",\"#EF553B\",\"#00cc96\",\"#ab63fa\",\"#FFA15A\",\"#19d3f3\",\"#FF6692\",\"#B6E880\",\"#FF97FF\",\"#FECB52\"],\"font\":{\"color\":\"#2a3f5f\"},\"hovermode\":\"closest\",\"hoverlabel\":{\"align\":\"left\"},\"paper_bgcolor\":\"white\",\"plot_bgcolor\":\"#E5ECF6\",\"polar\":{\"bgcolor\":\"#E5ECF6\",\"angularaxis\":{\"gridcolor\":\"white\",\"linecolor\":\"white\",\"ticks\":\"\"},\"radialaxis\":{\"gridcolor\":\"white\",\"linecolor\":\"white\",\"ticks\":\"\"}},\"ternary\":{\"bgcolor\":\"#E5ECF6\",\"aaxis\":{\"gridcolor\":\"white\",\"linecolor\":\"white\",\"ticks\":\"\"},\"baxis\":{\"gridcolor\":\"white\",\"linecolor\":\"white\",\"ticks\":\"\"},\"caxis\":{\"gridcolor\":\"white\",\"linecolor\":\"white\",\"ticks\":\"\"}},\"coloraxis\":{\"colorbar\":{\"outlinewidth\":0,\"ticks\":\"\"}},\"colorscale\":{\"sequential\":[[0.0,\"#0d0887\"],[0.1111111111111111,\"#46039f\"],[0.2222222222222222,\"#7201a8\"],[0.3333333333333333,\"#9c179e\"],[0.4444444444444444,\"#bd3786\"],[0.5555555555555556,\"#d8576b\"],[0.6666666666666666,\"#ed7953\"],[0.7777777777777778,\"#fb9f3a\"],[0.8888888888888888,\"#fdca26\"],[1.0,\"#f0f921\"]],\"sequentialminus\":[[0.0,\"#0d0887\"],[0.1111111111111111,\"#46039f\"],[0.2222222222222222,\"#7201a8\"],[0.3333333333333333,\"#9c179e\"],[0.4444444444444444,\"#bd3786\"],[0.5555555555555556,\"#d8576b\"],[0.6666666666666666,\"#ed7953\"],[0.7777777777777778,\"#fb9f3a\"],[0.8888888888888888,\"#fdca26\"],[1.0,\"#f0f921\"]],\"diverging\":[[0,\"#8e0152\"],[0.1,\"#c51b7d\"],[0.2,\"#de77ae\"],[0.3,\"#f1b6da\"],[0.4,\"#fde0ef\"],[0.5,\"#f7f7f7\"],[0.6,\"#e6f5d0\"],[0.7,\"#b8e186\"],[0.8,\"#7fbc41\"],[0.9,\"#4d9221\"],[1,\"#276419\"]]},\"xaxis\":{\"gridcolor\":\"white\",\"linecolor\":\"white\",\"ticks\":\"\",\"title\":{\"standoff\":15},\"zerolinecolor\":\"white\",\"automargin\":true,\"zerolinewidth\":2},\"yaxis\":{\"gridcolor\":\"white\",\"linecolor\":\"white\",\"ticks\":\"\",\"title\":{\"standoff\":15},\"zerolinecolor\":\"white\",\"automargin\":true,\"zerolinewidth\":2},\"scene\":{\"xaxis\":{\"backgroundcolor\":\"#E5ECF6\",\"gridcolor\":\"white\",\"linecolor\":\"white\",\"showbackground\":true,\"ticks\":\"\",\"zerolinecolor\":\"white\",\"gridwidth\":2},\"yaxis\":{\"backgroundcolor\":\"#E5ECF6\",\"gridcolor\":\"white\",\"linecolor\":\"white\",\"showbackground\":true,\"ticks\":\"\",\"zerolinecolor\":\"white\",\"gridwidth\":2},\"zaxis\":{\"backgroundcolor\":\"#E5ECF6\",\"gridcolor\":\"white\",\"linecolor\":\"white\",\"showbackground\":true,\"ticks\":\"\",\"zerolinecolor\":\"white\",\"gridwidth\":2}},\"shapedefaults\":{\"line\":{\"color\":\"#2a3f5f\"}},\"annotationdefaults\":{\"arrowcolor\":\"#2a3f5f\",\"arrowhead\":0,\"arrowwidth\":1},\"geo\":{\"bgcolor\":\"white\",\"landcolor\":\"#E5ECF6\",\"subunitcolor\":\"white\",\"showland\":true,\"showlakes\":true,\"lakecolor\":\"white\"},\"title\":{\"x\":0.05},\"mapbox\":{\"style\":\"light\"}}},\"scene\":{\"domain\":{\"x\":[0.0,1.0],\"y\":[0.0,1.0]},\"xaxis\":{\"title\":{\"text\":\"feature1\"}},\"yaxis\":{\"title\":{\"text\":\"feature2\"}},\"zaxis\":{\"title\":{\"text\":\"target\"}}},\"legend\":{\"tracegroupgap\":0},\"margin\":{\"t\":60}},                        {\"responsive\": true}                    ).then(function(){\n",
       "                            \n",
       "var gd = document.getElementById('f23e4982-8b7d-45a7-933c-513972f69870');\n",
       "var x = new MutationObserver(function (mutations, observer) {{\n",
       "        var display = window.getComputedStyle(gd).display;\n",
       "        if (!display || display === 'none') {{\n",
       "            console.log([gd, 'removed!']);\n",
       "            Plotly.purge(gd);\n",
       "            observer.disconnect();\n",
       "        }}\n",
       "}});\n",
       "\n",
       "// Listen for the removal of the full notebook cells\n",
       "var notebookContainer = gd.closest('#notebook-container');\n",
       "if (notebookContainer) {{\n",
       "    x.observe(notebookContainer, {childList: true});\n",
       "}}\n",
       "\n",
       "// Listen for the clearing of the current output cell\n",
       "var outputEl = gd.closest('.output');\n",
       "if (outputEl) {{\n",
       "    x.observe(outputEl, {childList: true});\n",
       "}}\n",
       "\n",
       "                        })                };                });            </script>        </div>"
      ]
     },
     "metadata": {},
     "output_type": "display_data"
    }
   ],
   "source": [
    "x = np.linspace(-5, 5, 10)\n",
    "y = np.linspace(-5, 5, 10)\n",
    "\n",
    "xGrid,yGrid = np.meshgrid(y, x)\n",
    "\n",
    "final = np.vstack((xGrid.ravel().reshape(1,100),yGrid.ravel().reshape(1,100))).T\n",
    "\n",
    "z_final = lr.predict(final).reshape(10,10)\n",
    "\n",
    "z = z_final\n",
    "\n",
    "fig = px.scatter_3d(df, x='feature1', y='feature2', z='target')\n",
    "\n",
    "fig.add_trace(go.Surface(x=y, y=y,z=z))\n",
    "\n",
    "fig.show()\n",
    "\n"
   ]
  },
  {
   "cell_type": "code",
   "execution_count": 42,
   "id": "4300839e-3609-4bca-b79c-c3fbc8abe83d",
   "metadata": {},
   "outputs": [
    {
     "data": {
      "text/plain": [
       "array([43.25136894, 86.70922646])"
      ]
     },
     "execution_count": 42,
     "metadata": {},
     "output_type": "execute_result"
    }
   ],
   "source": [
    "lr.coef_"
   ]
  },
  {
   "cell_type": "code",
   "execution_count": 43,
   "id": "173a30f7-4a0c-4aa3-b990-6b2428c5b743",
   "metadata": {},
   "outputs": [
    {
     "data": {
      "text/plain": [
       "-8.455520733320572"
      ]
     },
     "execution_count": 43,
     "metadata": {},
     "output_type": "execute_result"
    }
   ],
   "source": [
    "lr.intercept_"
   ]
  },
  {
   "cell_type": "code",
   "execution_count": null,
   "id": "b1edbab1-137b-4219-8e31-a21037ed7e02",
   "metadata": {},
   "outputs": [],
   "source": []
  }
 ],
 "metadata": {
  "kernelspec": {
   "display_name": "Python 3 (ipykernel)",
   "language": "python",
   "name": "python3"
  },
  "language_info": {
   "codemirror_mode": {
    "name": "ipython",
    "version": 3
   },
   "file_extension": ".py",
   "mimetype": "text/x-python",
   "name": "python",
   "nbconvert_exporter": "python",
   "pygments_lexer": "ipython3",
   "version": "3.11.7"
  }
 },
 "nbformat": 4,
 "nbformat_minor": 5
}
